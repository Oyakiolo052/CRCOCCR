{
 "cells": [
  {
   "cell_type": "code",
   "execution_count": 1,
   "id": "e93c64c9",
   "metadata": {},
   "outputs": [
    {
     "name": "stdout",
     "output_type": "stream",
     "text": [
      "Requirement already satisfied: openpyxl in /home/mdr614/anaconda3/lib/python3.10/site-packages (3.0.10)\r\n",
      "Requirement already satisfied: et_xmlfile in /home/mdr614/anaconda3/lib/python3.10/site-packages (from openpyxl) (1.1.0)\r\n"
     ]
    }
   ],
   "source": [
    "!pip install openpyxl"
   ]
  },
  {
   "cell_type": "code",
   "execution_count": 2,
   "id": "a40d8f6c",
   "metadata": {},
   "outputs": [
    {
     "name": "stdout",
     "output_type": "stream",
     "text": [
      "Requirement already satisfied: jupyter in /home/mdr614/anaconda3/lib/python3.10/site-packages (1.0.0)\n",
      "Collecting jupyter\n",
      "  Downloading jupyter-1.1.1-py2.py3-none-any.whl (2.7 kB)\n",
      "Requirement already satisfied: ipywidgets in /home/mdr614/anaconda3/lib/python3.10/site-packages (8.1.1)\n",
      "Collecting ipywidgets\n",
      "  Downloading ipywidgets-8.1.5-py3-none-any.whl (139 kB)\n",
      "\u001b[2K     \u001b[38;2;114;156;31m━━━━━━━━━━━━━━━━━━━━━━━━━━━━━━━━━━━━━━━\u001b[0m \u001b[32m139.8/139.8 kB\u001b[0m \u001b[31m2.0 MB/s\u001b[0m eta \u001b[36m0:00:00\u001b[0m[31m1.9 MB/s\u001b[0m eta \u001b[36m0:00:01\u001b[0m\n",
      "\u001b[?25hRequirement already satisfied: nbconvert in /home/mdr614/anaconda3/lib/python3.10/site-packages (from jupyter) (6.5.4)\n",
      "Requirement already satisfied: jupyterlab in /home/mdr614/anaconda3/lib/python3.10/site-packages (from jupyter) (3.5.3)\n",
      "Requirement already satisfied: jupyter-console in /home/mdr614/anaconda3/lib/python3.10/site-packages (from jupyter) (6.6.2)\n",
      "Requirement already satisfied: ipykernel in /home/mdr614/anaconda3/lib/python3.10/site-packages (from jupyter) (6.19.2)\n",
      "Requirement already satisfied: notebook in /home/mdr614/anaconda3/lib/python3.10/site-packages (from jupyter) (6.5.2)\n",
      "Requirement already satisfied: traitlets>=4.3.1 in /home/mdr614/anaconda3/lib/python3.10/site-packages (from ipywidgets) (5.7.1)\n",
      "Requirement already satisfied: comm>=0.1.3 in /home/mdr614/anaconda3/lib/python3.10/site-packages (from ipywidgets) (0.1.4)\n",
      "Requirement already satisfied: ipython>=6.1.0 in /home/mdr614/anaconda3/lib/python3.10/site-packages (from ipywidgets) (8.10.0)\n",
      "Collecting jupyterlab-widgets~=3.0.12\n",
      "  Downloading jupyterlab_widgets-3.0.13-py3-none-any.whl (214 kB)\n",
      "\u001b[2K     \u001b[38;2;114;156;31m━━━━━━━━━━━━━━━━━━━━━━━━━━━━━━━━━━━━━━━\u001b[0m \u001b[32m214.4/214.4 kB\u001b[0m \u001b[31m6.6 MB/s\u001b[0m eta \u001b[36m0:00:00\u001b[0m\n",
      "\u001b[?25hCollecting widgetsnbextension~=4.0.12\n",
      "  Downloading widgetsnbextension-4.0.13-py3-none-any.whl (2.3 MB)\n",
      "\u001b[2K     \u001b[38;2;114;156;31m━━━━━━━━━━━━━━━━━━━━━━━━━━━━━━━━━━━━━━━━\u001b[0m \u001b[32m2.3/2.3 MB\u001b[0m \u001b[31m20.4 MB/s\u001b[0m eta \u001b[36m0:00:00\u001b[0mm eta \u001b[36m0:00:01\u001b[0m[36m0:00:01\u001b[0m\n",
      "\u001b[?25hRequirement already satisfied: pexpect>4.3 in /home/mdr614/anaconda3/lib/python3.10/site-packages (from ipython>=6.1.0->ipywidgets) (4.8.0)\n",
      "Requirement already satisfied: stack-data in /home/mdr614/anaconda3/lib/python3.10/site-packages (from ipython>=6.1.0->ipywidgets) (0.2.0)\n",
      "Requirement already satisfied: backcall in /home/mdr614/anaconda3/lib/python3.10/site-packages (from ipython>=6.1.0->ipywidgets) (0.2.0)\n",
      "Requirement already satisfied: jedi>=0.16 in /home/mdr614/anaconda3/lib/python3.10/site-packages (from ipython>=6.1.0->ipywidgets) (0.18.1)\n",
      "Requirement already satisfied: prompt-toolkit<3.1.0,>=3.0.30 in /home/mdr614/anaconda3/lib/python3.10/site-packages (from ipython>=6.1.0->ipywidgets) (3.0.36)\n",
      "Requirement already satisfied: matplotlib-inline in /home/mdr614/anaconda3/lib/python3.10/site-packages (from ipython>=6.1.0->ipywidgets) (0.1.6)\n",
      "Requirement already satisfied: pygments>=2.4.0 in /home/mdr614/anaconda3/lib/python3.10/site-packages (from ipython>=6.1.0->ipywidgets) (2.11.2)\n",
      "Requirement already satisfied: decorator in /home/mdr614/anaconda3/lib/python3.10/site-packages (from ipython>=6.1.0->ipywidgets) (5.1.1)\n",
      "Requirement already satisfied: pickleshare in /home/mdr614/anaconda3/lib/python3.10/site-packages (from ipython>=6.1.0->ipywidgets) (0.7.5)\n",
      "Requirement already satisfied: pyzmq>=17 in /home/mdr614/anaconda3/lib/python3.10/site-packages (from ipykernel->jupyter) (23.2.0)\n",
      "Requirement already satisfied: packaging in /home/mdr614/anaconda3/lib/python3.10/site-packages (from ipykernel->jupyter) (22.0)\n",
      "Requirement already satisfied: debugpy>=1.0 in /home/mdr614/anaconda3/lib/python3.10/site-packages (from ipykernel->jupyter) (1.5.1)\n",
      "Requirement already satisfied: jupyter-client>=6.1.12 in /home/mdr614/anaconda3/lib/python3.10/site-packages (from ipykernel->jupyter) (7.3.4)\n",
      "Requirement already satisfied: psutil in /home/mdr614/anaconda3/lib/python3.10/site-packages (from ipykernel->jupyter) (5.9.0)\n",
      "Requirement already satisfied: nest-asyncio in /home/mdr614/anaconda3/lib/python3.10/site-packages (from ipykernel->jupyter) (1.5.6)\n",
      "Requirement already satisfied: tornado>=6.1 in /home/mdr614/anaconda3/lib/python3.10/site-packages (from ipykernel->jupyter) (6.1)\n",
      "Requirement already satisfied: jupyter-core!=5.0.*,>=4.12 in /home/mdr614/anaconda3/lib/python3.10/site-packages (from jupyter-console->jupyter) (5.2.0)\n",
      "Requirement already satisfied: jupyter-server<3,>=1.16.0 in /home/mdr614/anaconda3/lib/python3.10/site-packages (from jupyterlab->jupyter) (1.23.4)\n",
      "Requirement already satisfied: nbclassic in /home/mdr614/anaconda3/lib/python3.10/site-packages (from jupyterlab->jupyter) (0.5.2)\n",
      "Requirement already satisfied: jupyterlab-server~=2.10 in /home/mdr614/anaconda3/lib/python3.10/site-packages (from jupyterlab->jupyter) (2.19.0)\n",
      "Requirement already satisfied: tomli in /home/mdr614/anaconda3/lib/python3.10/site-packages (from jupyterlab->jupyter) (2.0.1)\n",
      "Requirement already satisfied: jinja2>=2.1 in /home/mdr614/anaconda3/lib/python3.10/site-packages (from jupyterlab->jupyter) (3.1.2)\n",
      "Requirement already satisfied: argon2-cffi in /home/mdr614/anaconda3/lib/python3.10/site-packages (from notebook->jupyter) (21.3.0)\n",
      "Requirement already satisfied: Send2Trash>=1.8.0 in /home/mdr614/anaconda3/lib/python3.10/site-packages (from notebook->jupyter) (1.8.0)\n",
      "Requirement already satisfied: terminado>=0.8.3 in /home/mdr614/anaconda3/lib/python3.10/site-packages (from notebook->jupyter) (0.17.1)\n",
      "Requirement already satisfied: ipython-genutils in /home/mdr614/anaconda3/lib/python3.10/site-packages (from notebook->jupyter) (0.2.0)\n",
      "Requirement already satisfied: nbformat in /home/mdr614/anaconda3/lib/python3.10/site-packages (from notebook->jupyter) (5.7.0)\n",
      "Requirement already satisfied: prometheus-client in /home/mdr614/anaconda3/lib/python3.10/site-packages (from notebook->jupyter) (0.14.1)\n",
      "Requirement already satisfied: jupyterlab-pygments in /home/mdr614/anaconda3/lib/python3.10/site-packages (from nbconvert->jupyter) (0.1.2)\n",
      "Requirement already satisfied: MarkupSafe>=2.0 in /home/mdr614/anaconda3/lib/python3.10/site-packages (from nbconvert->jupyter) (2.1.1)\n",
      "Requirement already satisfied: beautifulsoup4 in /home/mdr614/anaconda3/lib/python3.10/site-packages (from nbconvert->jupyter) (4.11.1)\n",
      "Requirement already satisfied: entrypoints>=0.2.2 in /home/mdr614/anaconda3/lib/python3.10/site-packages (from nbconvert->jupyter) (0.4)\n",
      "Requirement already satisfied: pandocfilters>=1.4.1 in /home/mdr614/anaconda3/lib/python3.10/site-packages (from nbconvert->jupyter) (1.5.0)\n",
      "Requirement already satisfied: tinycss2 in /home/mdr614/anaconda3/lib/python3.10/site-packages (from nbconvert->jupyter) (1.2.1)\n",
      "Requirement already satisfied: mistune<2,>=0.8.1 in /home/mdr614/anaconda3/lib/python3.10/site-packages (from nbconvert->jupyter) (0.8.4)\n",
      "Requirement already satisfied: lxml in /home/mdr614/anaconda3/lib/python3.10/site-packages (from nbconvert->jupyter) (4.9.1)\n",
      "Requirement already satisfied: bleach in /home/mdr614/anaconda3/lib/python3.10/site-packages (from nbconvert->jupyter) (4.1.0)\n",
      "Requirement already satisfied: defusedxml in /home/mdr614/anaconda3/lib/python3.10/site-packages (from nbconvert->jupyter) (0.7.1)\n",
      "Requirement already satisfied: nbclient>=0.5.0 in /home/mdr614/anaconda3/lib/python3.10/site-packages (from nbconvert->jupyter) (0.5.13)\n",
      "Requirement already satisfied: parso<0.9.0,>=0.8.0 in /home/mdr614/anaconda3/lib/python3.10/site-packages (from jedi>=0.16->ipython>=6.1.0->ipywidgets) (0.8.3)\n",
      "Requirement already satisfied: python-dateutil>=2.8.2 in /home/mdr614/anaconda3/lib/python3.10/site-packages (from jupyter-client>=6.1.12->ipykernel->jupyter) (2.8.2)\n",
      "Requirement already satisfied: platformdirs>=2.5 in /home/mdr614/anaconda3/lib/python3.10/site-packages (from jupyter-core!=5.0.*,>=4.12->jupyter-console->jupyter) (2.5.2)\n",
      "Requirement already satisfied: websocket-client in /home/mdr614/anaconda3/lib/python3.10/site-packages (from jupyter-server<3,>=1.16.0->jupyterlab->jupyter) (0.58.0)\n",
      "Requirement already satisfied: anyio<4,>=3.1.0 in /home/mdr614/anaconda3/lib/python3.10/site-packages (from jupyter-server<3,>=1.16.0->jupyterlab->jupyter) (3.7.1)\n"
     ]
    },
    {
     "name": "stdout",
     "output_type": "stream",
     "text": [
      "Requirement already satisfied: requests>=2.28 in /home/mdr614/anaconda3/lib/python3.10/site-packages (from jupyterlab-server~=2.10->jupyterlab->jupyter) (2.28.1)\n",
      "Requirement already satisfied: json5>=0.9.0 in /home/mdr614/anaconda3/lib/python3.10/site-packages (from jupyterlab-server~=2.10->jupyterlab->jupyter) (0.9.6)\n",
      "Requirement already satisfied: babel>=2.10 in /home/mdr614/anaconda3/lib/python3.10/site-packages (from jupyterlab-server~=2.10->jupyterlab->jupyter) (2.11.0)\n",
      "Requirement already satisfied: jsonschema>=4.17.3 in /home/mdr614/anaconda3/lib/python3.10/site-packages (from jupyterlab-server~=2.10->jupyterlab->jupyter) (4.17.3)\n",
      "Requirement already satisfied: notebook-shim>=0.1.0 in /home/mdr614/anaconda3/lib/python3.10/site-packages (from nbclassic->jupyterlab->jupyter) (0.2.2)\n",
      "Requirement already satisfied: fastjsonschema in /home/mdr614/anaconda3/lib/python3.10/site-packages (from nbformat->notebook->jupyter) (2.16.2)\n",
      "Requirement already satisfied: ptyprocess>=0.5 in /home/mdr614/anaconda3/lib/python3.10/site-packages (from pexpect>4.3->ipython>=6.1.0->ipywidgets) (0.7.0)\n",
      "Requirement already satisfied: wcwidth in /home/mdr614/anaconda3/lib/python3.10/site-packages (from prompt-toolkit<3.1.0,>=3.0.30->ipython>=6.1.0->ipywidgets) (0.2.13)\n",
      "Requirement already satisfied: argon2-cffi-bindings in /home/mdr614/anaconda3/lib/python3.10/site-packages (from argon2-cffi->notebook->jupyter) (21.2.0)\n",
      "Requirement already satisfied: soupsieve>1.2 in /home/mdr614/anaconda3/lib/python3.10/site-packages (from beautifulsoup4->nbconvert->jupyter) (2.3.2.post1)\n",
      "Requirement already satisfied: webencodings in /home/mdr614/anaconda3/lib/python3.10/site-packages (from bleach->nbconvert->jupyter) (0.5.1)\n",
      "Requirement already satisfied: six>=1.9.0 in /home/mdr614/anaconda3/lib/python3.10/site-packages (from bleach->nbconvert->jupyter) (1.16.0)\n",
      "Requirement already satisfied: asttokens in /home/mdr614/anaconda3/lib/python3.10/site-packages (from stack-data->ipython>=6.1.0->ipywidgets) (2.0.5)\n",
      "Requirement already satisfied: pure-eval in /home/mdr614/anaconda3/lib/python3.10/site-packages (from stack-data->ipython>=6.1.0->ipywidgets) (0.2.2)\n",
      "Requirement already satisfied: executing in /home/mdr614/anaconda3/lib/python3.10/site-packages (from stack-data->ipython>=6.1.0->ipywidgets) (0.8.3)\n",
      "Requirement already satisfied: exceptiongroup in /home/mdr614/anaconda3/lib/python3.10/site-packages (from anyio<4,>=3.1.0->jupyter-server<3,>=1.16.0->jupyterlab->jupyter) (1.1.3)\n",
      "Requirement already satisfied: sniffio>=1.1 in /home/mdr614/anaconda3/lib/python3.10/site-packages (from anyio<4,>=3.1.0->jupyter-server<3,>=1.16.0->jupyterlab->jupyter) (1.2.0)\n",
      "Requirement already satisfied: idna>=2.8 in /home/mdr614/anaconda3/lib/python3.10/site-packages (from anyio<4,>=3.1.0->jupyter-server<3,>=1.16.0->jupyterlab->jupyter) (3.4)\n",
      "Requirement already satisfied: pytz>=2015.7 in /home/mdr614/anaconda3/lib/python3.10/site-packages (from babel>=2.10->jupyterlab-server~=2.10->jupyterlab->jupyter) (2022.7)\n",
      "Requirement already satisfied: pyrsistent!=0.17.0,!=0.17.1,!=0.17.2,>=0.14.0 in /home/mdr614/anaconda3/lib/python3.10/site-packages (from jsonschema>=4.17.3->jupyterlab-server~=2.10->jupyterlab->jupyter) (0.18.0)\n",
      "Requirement already satisfied: attrs>=17.4.0 in /home/mdr614/anaconda3/lib/python3.10/site-packages (from jsonschema>=4.17.3->jupyterlab-server~=2.10->jupyterlab->jupyter) (22.1.0)\n",
      "Requirement already satisfied: urllib3<1.27,>=1.21.1 in /home/mdr614/anaconda3/lib/python3.10/site-packages (from requests>=2.28->jupyterlab-server~=2.10->jupyterlab->jupyter) (1.26.14)\n",
      "Requirement already satisfied: certifi>=2017.4.17 in /home/mdr614/anaconda3/lib/python3.10/site-packages (from requests>=2.28->jupyterlab-server~=2.10->jupyterlab->jupyter) (2023.7.22)\n",
      "Requirement already satisfied: charset-normalizer<3,>=2 in /home/mdr614/anaconda3/lib/python3.10/site-packages (from requests>=2.28->jupyterlab-server~=2.10->jupyterlab->jupyter) (2.0.4)\n",
      "Requirement already satisfied: cffi>=1.0.1 in /home/mdr614/anaconda3/lib/python3.10/site-packages (from argon2-cffi-bindings->argon2-cffi->notebook->jupyter) (1.15.1)\n",
      "Requirement already satisfied: pycparser in /home/mdr614/anaconda3/lib/python3.10/site-packages (from cffi>=1.0.1->argon2-cffi-bindings->argon2-cffi->notebook->jupyter) (2.21)\n",
      "Installing collected packages: widgetsnbextension, jupyterlab-widgets, ipywidgets, jupyter\n",
      "  Attempting uninstall: widgetsnbextension\n",
      "    Found existing installation: widgetsnbextension 4.0.9\n",
      "    Uninstalling widgetsnbextension-4.0.9:\n",
      "      Successfully uninstalled widgetsnbextension-4.0.9\n",
      "  Attempting uninstall: jupyterlab-widgets\n",
      "    Found existing installation: jupyterlab-widgets 3.0.9\n",
      "    Uninstalling jupyterlab-widgets-3.0.9:\n",
      "      Successfully uninstalled jupyterlab-widgets-3.0.9\n",
      "  Attempting uninstall: ipywidgets\n",
      "    Found existing installation: ipywidgets 8.1.1\n",
      "    Uninstalling ipywidgets-8.1.1:\n",
      "      Successfully uninstalled ipywidgets-8.1.1\n",
      "  Attempting uninstall: jupyter\n",
      "    Found existing installation: jupyter 1.0.0\n",
      "    Uninstalling jupyter-1.0.0:\n",
      "      Successfully uninstalled jupyter-1.0.0\n",
      "Successfully installed ipywidgets-8.1.5 jupyter-1.1.1 jupyterlab-widgets-3.0.13 widgetsnbextension-4.0.13\n"
     ]
    }
   ],
   "source": [
    "!pip install --upgrade jupyter ipywidgets"
   ]
  },
  {
   "cell_type": "code",
   "execution_count": 3,
   "id": "da534d15",
   "metadata": {},
   "outputs": [],
   "source": [
    "import torch\n",
    "import pandas as pd\n",
    "from tqdm.notebook import tqdm\n",
    "import csv"
   ]
  },
  {
   "cell_type": "code",
   "execution_count": 8,
   "id": "d3f06d97",
   "metadata": {},
   "outputs": [
    {
     "data": {
      "text/html": [
       "<div>\n",
       "<style scoped>\n",
       "    .dataframe tbody tr th:only-of-type {\n",
       "        vertical-align: middle;\n",
       "    }\n",
       "\n",
       "    .dataframe tbody tr th {\n",
       "        vertical-align: top;\n",
       "    }\n",
       "\n",
       "    .dataframe thead th {\n",
       "        text-align: right;\n",
       "    }\n",
       "</style>\n",
       "<table border=\"1\" class=\"dataframe\">\n",
       "  <thead>\n",
       "    <tr style=\"text-align: right;\">\n",
       "      <th></th>\n",
       "      <th>Sentence</th>\n",
       "      <th>Label</th>\n",
       "    </tr>\n",
       "  </thead>\n",
       "  <tbody>\n",
       "    <tr>\n",
       "      <th>0</th>\n",
       "      <td>I'm glad you brought that up.</td>\n",
       "      <td>not confused</td>\n",
       "    </tr>\n",
       "    <tr>\n",
       "      <th>1</th>\n",
       "      <td>That's a thought-provoking concept.</td>\n",
       "      <td>not confused</td>\n",
       "    </tr>\n",
       "    <tr>\n",
       "      <th>2</th>\n",
       "      <td>What’s the reason for this approach?</td>\n",
       "      <td>confused</td>\n",
       "    </tr>\n",
       "    <tr>\n",
       "      <th>3</th>\n",
       "      <td>I’m not sure what this term refers to.</td>\n",
       "      <td>confused</td>\n",
       "    </tr>\n",
       "    <tr>\n",
       "      <th>4</th>\n",
       "      <td>Are you assuming that...?</td>\n",
       "      <td>confused</td>\n",
       "    </tr>\n",
       "  </tbody>\n",
       "</table>\n",
       "</div>"
      ],
      "text/plain": [
       "                                 Sentence         Label\n",
       "0           I'm glad you brought that up.  not confused\n",
       "1     That's a thought-provoking concept.  not confused\n",
       "2    What’s the reason for this approach?      confused\n",
       "3  I’m not sure what this term refers to.      confused\n",
       "4               Are you assuming that...?      confused"
      ]
     },
     "execution_count": 8,
     "metadata": {},
     "output_type": "execute_result"
    }
   ],
   "source": [
    "csv_file ='confusion_finding.csv' \n",
    "df = pd.read_csv(csv_file)\n",
    "df.head()"
   ]
  },
  {
   "cell_type": "code",
   "execution_count": 9,
   "id": "fa60f761",
   "metadata": {},
   "outputs": [
    {
     "data": {
      "text/plain": [
       "confused        421\n",
       "not confused    285\n",
       "Name: Label, dtype: int64"
      ]
     },
     "execution_count": 9,
     "metadata": {},
     "output_type": "execute_result"
    }
   ],
   "source": [
    "df.Label.value_counts()"
   ]
  },
  {
   "cell_type": "code",
   "execution_count": 11,
   "id": "a2b3ace9",
   "metadata": {},
   "outputs": [
    {
     "data": {
      "text/plain": [
       "array(['not confused', 'confused'], dtype=object)"
      ]
     },
     "execution_count": 11,
     "metadata": {},
     "output_type": "execute_result"
    }
   ],
   "source": [
    "possible_labels = df.Label.unique()\n",
    "possible_labels"
   ]
  },
  {
   "cell_type": "code",
   "execution_count": 12,
   "id": "9464e782",
   "metadata": {},
   "outputs": [],
   "source": [
    "label_dict = {}\n",
    "for index, possible_label in enumerate(possible_labels):\n",
    "    label_dict[possible_label] = index"
   ]
  },
  {
   "cell_type": "code",
   "execution_count": 13,
   "id": "90d792c9",
   "metadata": {},
   "outputs": [
    {
     "data": {
      "text/plain": [
       "{'not confused': 0, 'confused': 1}"
      ]
     },
     "execution_count": 13,
     "metadata": {},
     "output_type": "execute_result"
    }
   ],
   "source": [
    "label_dict"
   ]
  },
  {
   "cell_type": "code",
   "execution_count": 15,
   "id": "cad10c02",
   "metadata": {},
   "outputs": [],
   "source": [
    "df['label'] = df.Label.replace(label_dict)"
   ]
  },
  {
   "cell_type": "code",
   "execution_count": 16,
   "id": "4d347c70",
   "metadata": {},
   "outputs": [
    {
     "data": {
      "text/html": [
       "<div>\n",
       "<style scoped>\n",
       "    .dataframe tbody tr th:only-of-type {\n",
       "        vertical-align: middle;\n",
       "    }\n",
       "\n",
       "    .dataframe tbody tr th {\n",
       "        vertical-align: top;\n",
       "    }\n",
       "\n",
       "    .dataframe thead th {\n",
       "        text-align: right;\n",
       "    }\n",
       "</style>\n",
       "<table border=\"1\" class=\"dataframe\">\n",
       "  <thead>\n",
       "    <tr style=\"text-align: right;\">\n",
       "      <th></th>\n",
       "      <th>Sentence</th>\n",
       "      <th>Label</th>\n",
       "      <th>label</th>\n",
       "    </tr>\n",
       "  </thead>\n",
       "  <tbody>\n",
       "    <tr>\n",
       "      <th>0</th>\n",
       "      <td>I'm glad you brought that up.</td>\n",
       "      <td>not confused</td>\n",
       "      <td>0</td>\n",
       "    </tr>\n",
       "    <tr>\n",
       "      <th>1</th>\n",
       "      <td>That's a thought-provoking concept.</td>\n",
       "      <td>not confused</td>\n",
       "      <td>0</td>\n",
       "    </tr>\n",
       "    <tr>\n",
       "      <th>2</th>\n",
       "      <td>What’s the reason for this approach?</td>\n",
       "      <td>confused</td>\n",
       "      <td>1</td>\n",
       "    </tr>\n",
       "    <tr>\n",
       "      <th>3</th>\n",
       "      <td>I’m not sure what this term refers to.</td>\n",
       "      <td>confused</td>\n",
       "      <td>1</td>\n",
       "    </tr>\n",
       "    <tr>\n",
       "      <th>4</th>\n",
       "      <td>Are you assuming that...?</td>\n",
       "      <td>confused</td>\n",
       "      <td>1</td>\n",
       "    </tr>\n",
       "  </tbody>\n",
       "</table>\n",
       "</div>"
      ],
      "text/plain": [
       "                                 Sentence         Label  label\n",
       "0           I'm glad you brought that up.  not confused      0\n",
       "1     That's a thought-provoking concept.  not confused      0\n",
       "2    What’s the reason for this approach?      confused      1\n",
       "3  I’m not sure what this term refers to.      confused      1\n",
       "4               Are you assuming that...?      confused      1"
      ]
     },
     "execution_count": 16,
     "metadata": {},
     "output_type": "execute_result"
    }
   ],
   "source": [
    "df.head()"
   ]
  },
  {
   "cell_type": "code",
   "execution_count": 17,
   "id": "a21fd566",
   "metadata": {},
   "outputs": [],
   "source": [
    "from sklearn.model_selection import train_test_split"
   ]
  },
  {
   "cell_type": "code",
   "execution_count": 18,
   "id": "06001f68",
   "metadata": {},
   "outputs": [],
   "source": [
    "X_train, X_val, y_train, y_val = train_test_split(df.index.values, \n",
    "                                                  df.label.values, \n",
    "                                                  test_size=0.15, \n",
    "                                                  random_state=17, \n",
    "                                                  stratify=df.label.values)"
   ]
  },
  {
   "cell_type": "code",
   "execution_count": 19,
   "id": "0a3b84e0",
   "metadata": {},
   "outputs": [
    {
     "data": {
      "text/plain": [
       "array([ 32, 131, 494, 459, 470, 261, 232, 231, 590, 396, 507, 319,  40,\n",
       "        34, 517, 282, 453, 446, 701, 408, 297,  25,  79, 270,  15,  86,\n",
       "       343, 561, 256, 475, 591, 449, 601, 229, 308, 534, 265, 359, 461,\n",
       "       477, 696, 419, 700,   9, 273, 623, 504, 216, 163,  63, 651, 497,\n",
       "       698,   0, 299, 126, 526, 398, 324, 320, 421, 627, 376,  44, 288,\n",
       "       183, 322, 508, 412,  64, 335, 384, 217, 581, 598, 684, 551, 361,\n",
       "       205, 567, 666, 212, 580, 230, 375, 523, 329, 466, 152, 577, 278,\n",
       "       704, 693, 692,  92,  46, 253, 104, 170, 638, 105, 257, 635, 374,\n",
       "        96, 514, 121, 587, 474, 304, 263, 195, 285, 236, 560, 610, 345,\n",
       "       387, 129, 227, 276, 349,  56, 663, 214, 209,  16, 401,  13, 538,\n",
       "        50,  98, 604, 124, 331,  65, 326, 109, 432, 641, 207,  97, 404,\n",
       "       255, 486, 204, 356,  76, 372,  29, 520,   4,  33, 631, 485, 680,\n",
       "       473, 525, 448, 274, 293, 391, 452, 266, 182, 362, 334, 493, 499,\n",
       "       136, 330, 602, 313, 143, 360, 341, 177, 399, 481, 171, 290, 465,\n",
       "         7, 572,   2, 380, 617, 640, 688, 275, 495, 246, 417,  71, 149,\n",
       "        48, 472, 670, 202, 165, 405, 646, 141, 471, 219,  21, 426, 583,\n",
       "       353, 116, 686, 159, 302, 178, 225,  78, 483, 609, 196, 118, 125,\n",
       "       117, 422, 599, 496, 127, 303,   6, 505, 347,  83, 642, 569, 224,\n",
       "        52, 501, 368, 429, 378,  35, 564, 428, 673, 539, 611,  37, 181,\n",
       "       444, 645, 112, 306, 151, 612, 180, 296,  36,  75, 379, 579,  91,\n",
       "       512, 272, 699, 367, 527, 633, 120, 103,  59, 220, 248, 665,  87,\n",
       "       654, 503, 107, 193, 190, 458,  28, 548, 595, 339,  95, 425, 464,\n",
       "       513, 516, 586, 197, 234, 336, 553, 671, 169, 519, 238, 407, 342,\n",
       "       268,  38, 332, 397, 544, 188, 189, 156, 364, 674, 199, 622, 615,\n",
       "       558, 158, 150, 634, 660, 186, 289, 445, 543, 605,  10, 295, 702,\n",
       "       438, 568, 672, 636, 509,  73, 162, 259, 365, 592, 573, 661, 137,\n",
       "       267, 415, 518, 370, 175, 366, 348, 123, 533,  94, 410, 185,  53,\n",
       "       128, 100,   3, 705, 338,  62, 677, 621,  23, 578, 262, 315, 385,\n",
       "       639, 174, 515, 414, 249, 478, 433, 284, 145, 168, 130, 242, 247,\n",
       "       629, 596, 480, 340, 194, 191, 418, 138, 307, 603, 146, 223, 355,\n",
       "       402, 386, 161, 333, 563,  17, 695, 489, 337, 488, 134, 144, 240,\n",
       "       441, 479, 424, 135, 239,  99, 585, 491, 542, 436, 522,  93,  11,\n",
       "       283, 147, 463, 524,   1, 555, 431, 389, 574, 286, 211, 626, 321,\n",
       "        24, 221, 369, 328, 192, 233,  68, 101, 201, 350, 160, 682, 310,\n",
       "       420, 210,  31, 309, 694, 606, 132, 252, 317, 546, 649, 697,  81,\n",
       "       235, 549, 656, 222, 172, 500, 468, 506, 406, 545, 300, 498, 650,\n",
       "       325, 140, 685, 669, 294, 142, 435,  74, 628, 678, 683, 237, 281,\n",
       "       687, 454, 291, 607, 323, 393, 218, 457,  80, 203, 624, 690, 311,\n",
       "       206, 200, 416, 153, 382, 620, 179, 327,  49, 351, 354, 280,  58,\n",
       "       244, 314, 657, 316, 114, 395, 226, 531,  51, 383,  55, 292, 148,\n",
       "       176, 352,  18, 392,  12, 600, 589, 440,  27, 511, 269, 437, 102,\n",
       "       613, 377, 550, 363, 110, 594,  41, 528, 487, 115, 593, 676, 258,\n",
       "       632, 597, 492, 119, 556, 570, 540, 689, 250,  88, 450, 469,  42,\n",
       "       584, 536, 658, 423,  84, 390, 476,  26, 529, 557, 254, 371,  14,\n",
       "       618, 111, 530,  22, 510, 703, 482, 614, 675, 588, 630,  30, 653,\n",
       "       241, 108, 251, 245,  47, 357, 400, 535,  72, 228, 679,  77,  54,\n",
       "       637, 388])"
      ]
     },
     "execution_count": 19,
     "metadata": {},
     "output_type": "execute_result"
    }
   ],
   "source": [
    "X_train"
   ]
  },
  {
   "cell_type": "code",
   "execution_count": 20,
   "id": "36b37ba2",
   "metadata": {},
   "outputs": [],
   "source": [
    "df['data_type'] = ['not_set']*df.shape[0]"
   ]
  },
  {
   "cell_type": "code",
   "execution_count": 21,
   "id": "52bcb33d",
   "metadata": {},
   "outputs": [],
   "source": [
    "df.loc[X_train, 'data_type'] = 'train'\n",
    "df.loc[X_val, 'data_type'] = 'val'"
   ]
  },
  {
   "cell_type": "code",
   "execution_count": 22,
   "id": "c36488d9",
   "metadata": {},
   "outputs": [
    {
     "data": {
      "text/html": [
       "<div>\n",
       "<style scoped>\n",
       "    .dataframe tbody tr th:only-of-type {\n",
       "        vertical-align: middle;\n",
       "    }\n",
       "\n",
       "    .dataframe tbody tr th {\n",
       "        vertical-align: top;\n",
       "    }\n",
       "\n",
       "    .dataframe thead th {\n",
       "        text-align: right;\n",
       "    }\n",
       "</style>\n",
       "<table border=\"1\" class=\"dataframe\">\n",
       "  <thead>\n",
       "    <tr style=\"text-align: right;\">\n",
       "      <th></th>\n",
       "      <th>Sentence</th>\n",
       "      <th>Label</th>\n",
       "      <th>label</th>\n",
       "      <th>data_type</th>\n",
       "    </tr>\n",
       "  </thead>\n",
       "  <tbody>\n",
       "    <tr>\n",
       "      <th>0</th>\n",
       "      <td>I'm glad you brought that up.</td>\n",
       "      <td>not confused</td>\n",
       "      <td>0</td>\n",
       "      <td>train</td>\n",
       "    </tr>\n",
       "    <tr>\n",
       "      <th>1</th>\n",
       "      <td>That's a thought-provoking concept.</td>\n",
       "      <td>not confused</td>\n",
       "      <td>0</td>\n",
       "      <td>train</td>\n",
       "    </tr>\n",
       "    <tr>\n",
       "      <th>2</th>\n",
       "      <td>What’s the reason for this approach?</td>\n",
       "      <td>confused</td>\n",
       "      <td>1</td>\n",
       "      <td>train</td>\n",
       "    </tr>\n",
       "    <tr>\n",
       "      <th>3</th>\n",
       "      <td>I’m not sure what this term refers to.</td>\n",
       "      <td>confused</td>\n",
       "      <td>1</td>\n",
       "      <td>train</td>\n",
       "    </tr>\n",
       "    <tr>\n",
       "      <th>4</th>\n",
       "      <td>Are you assuming that...?</td>\n",
       "      <td>confused</td>\n",
       "      <td>1</td>\n",
       "      <td>train</td>\n",
       "    </tr>\n",
       "    <tr>\n",
       "      <th>...</th>\n",
       "      <td>...</td>\n",
       "      <td>...</td>\n",
       "      <td>...</td>\n",
       "      <td>...</td>\n",
       "    </tr>\n",
       "    <tr>\n",
       "      <th>701</th>\n",
       "      <td>The performance metrics will be evaluated next...</td>\n",
       "      <td>not confused</td>\n",
       "      <td>0</td>\n",
       "      <td>train</td>\n",
       "    </tr>\n",
       "    <tr>\n",
       "      <th>702</th>\n",
       "      <td>What are the underlying assumptions in this me...</td>\n",
       "      <td>confused</td>\n",
       "      <td>1</td>\n",
       "      <td>train</td>\n",
       "    </tr>\n",
       "    <tr>\n",
       "      <th>703</th>\n",
       "      <td>Can you provide a real-world scenario?</td>\n",
       "      <td>confused</td>\n",
       "      <td>1</td>\n",
       "      <td>train</td>\n",
       "    </tr>\n",
       "    <tr>\n",
       "      <th>704</th>\n",
       "      <td>I'm concerned about the practicality of that.</td>\n",
       "      <td>confused</td>\n",
       "      <td>1</td>\n",
       "      <td>train</td>\n",
       "    </tr>\n",
       "    <tr>\n",
       "      <th>705</th>\n",
       "      <td>I'm not sure that's in my best interest.</td>\n",
       "      <td>confused</td>\n",
       "      <td>1</td>\n",
       "      <td>train</td>\n",
       "    </tr>\n",
       "  </tbody>\n",
       "</table>\n",
       "<p>706 rows × 4 columns</p>\n",
       "</div>"
      ],
      "text/plain": [
       "                                              Sentence         Label  label  \\\n",
       "0                        I'm glad you brought that up.  not confused      0   \n",
       "1                  That's a thought-provoking concept.  not confused      0   \n",
       "2                 What’s the reason for this approach?      confused      1   \n",
       "3               I’m not sure what this term refers to.      confused      1   \n",
       "4                            Are you assuming that...?      confused      1   \n",
       "..                                                 ...           ...    ...   \n",
       "701  The performance metrics will be evaluated next...  not confused      0   \n",
       "702  What are the underlying assumptions in this me...      confused      1   \n",
       "703             Can you provide a real-world scenario?      confused      1   \n",
       "704      I'm concerned about the practicality of that.      confused      1   \n",
       "705           I'm not sure that's in my best interest.      confused      1   \n",
       "\n",
       "    data_type  \n",
       "0       train  \n",
       "1       train  \n",
       "2       train  \n",
       "3       train  \n",
       "4       train  \n",
       "..        ...  \n",
       "701     train  \n",
       "702     train  \n",
       "703     train  \n",
       "704     train  \n",
       "705     train  \n",
       "\n",
       "[706 rows x 4 columns]"
      ]
     },
     "execution_count": 22,
     "metadata": {},
     "output_type": "execute_result"
    }
   ],
   "source": [
    "df"
   ]
  },
  {
   "cell_type": "code",
   "execution_count": 24,
   "id": "5cbef260",
   "metadata": {},
   "outputs": [
    {
     "data": {
      "text/html": [
       "<div>\n",
       "<style scoped>\n",
       "    .dataframe tbody tr th:only-of-type {\n",
       "        vertical-align: middle;\n",
       "    }\n",
       "\n",
       "    .dataframe tbody tr th {\n",
       "        vertical-align: top;\n",
       "    }\n",
       "\n",
       "    .dataframe thead th {\n",
       "        text-align: right;\n",
       "    }\n",
       "</style>\n",
       "<table border=\"1\" class=\"dataframe\">\n",
       "  <thead>\n",
       "    <tr style=\"text-align: right;\">\n",
       "      <th></th>\n",
       "      <th></th>\n",
       "      <th></th>\n",
       "      <th>Sentence</th>\n",
       "    </tr>\n",
       "    <tr>\n",
       "      <th>Label</th>\n",
       "      <th>label</th>\n",
       "      <th>data_type</th>\n",
       "      <th></th>\n",
       "    </tr>\n",
       "  </thead>\n",
       "  <tbody>\n",
       "    <tr>\n",
       "      <th rowspan=\"2\" valign=\"top\">confused</th>\n",
       "      <th rowspan=\"2\" valign=\"top\">1</th>\n",
       "      <th>train</th>\n",
       "      <td>358</td>\n",
       "    </tr>\n",
       "    <tr>\n",
       "      <th>val</th>\n",
       "      <td>63</td>\n",
       "    </tr>\n",
       "    <tr>\n",
       "      <th rowspan=\"2\" valign=\"top\">not confused</th>\n",
       "      <th rowspan=\"2\" valign=\"top\">0</th>\n",
       "      <th>train</th>\n",
       "      <td>242</td>\n",
       "    </tr>\n",
       "    <tr>\n",
       "      <th>val</th>\n",
       "      <td>43</td>\n",
       "    </tr>\n",
       "  </tbody>\n",
       "</table>\n",
       "</div>"
      ],
      "text/plain": [
       "                              Sentence\n",
       "Label        label data_type          \n",
       "confused     1     train           358\n",
       "                   val              63\n",
       "not confused 0     train           242\n",
       "                   val              43"
      ]
     },
     "execution_count": 24,
     "metadata": {},
     "output_type": "execute_result"
    }
   ],
   "source": [
    "df.groupby(['Label', 'label', 'data_type']).count()"
   ]
  },
  {
   "cell_type": "code",
   "execution_count": 25,
   "id": "f648da3b",
   "metadata": {},
   "outputs": [],
   "source": [
    "from transformers import BertTokenizer\n",
    "from torch.utils.data import TensorDataset"
   ]
  },
  {
   "cell_type": "code",
   "execution_count": 26,
   "id": "c3385828",
   "metadata": {},
   "outputs": [
    {
     "data": {
      "application/vnd.jupyter.widget-view+json": {
       "model_id": "a02c3009fbe54269832a8994b57ffde3",
       "version_major": 2,
       "version_minor": 0
      },
      "text/plain": [
       "tokenizer_config.json:   0%|          | 0.00/48.0 [00:00<?, ?B/s]"
      ]
     },
     "metadata": {},
     "output_type": "display_data"
    },
    {
     "data": {
      "application/vnd.jupyter.widget-view+json": {
       "model_id": "fbf5f1f613c8482aa4843dc826c005df",
       "version_major": 2,
       "version_minor": 0
      },
      "text/plain": [
       "vocab.txt:   0%|          | 0.00/232k [00:00<?, ?B/s]"
      ]
     },
     "metadata": {},
     "output_type": "display_data"
    },
    {
     "data": {
      "application/vnd.jupyter.widget-view+json": {
       "model_id": "ed8a37af65984223bd701cb232d287fc",
       "version_major": 2,
       "version_minor": 0
      },
      "text/plain": [
       "tokenizer.json:   0%|          | 0.00/466k [00:00<?, ?B/s]"
      ]
     },
     "metadata": {},
     "output_type": "display_data"
    },
    {
     "data": {
      "application/vnd.jupyter.widget-view+json": {
       "model_id": "c8f4a529fb664778b97754d63b7b2c56",
       "version_major": 2,
       "version_minor": 0
      },
      "text/plain": [
       "config.json:   0%|          | 0.00/570 [00:00<?, ?B/s]"
      ]
     },
     "metadata": {},
     "output_type": "display_data"
    }
   ],
   "source": [
    "tokenizer = BertTokenizer.from_pretrained('bert-base-uncased', \n",
    "                                          do_lower_case=True)"
   ]
  },
  {
   "cell_type": "code",
   "execution_count": 28,
   "id": "0e602c7c",
   "metadata": {},
   "outputs": [
    {
     "data": {
      "text/plain": [
       "array([\"I'm glad you brought that up.\",\n",
       "       \"That's a thought-provoking concept.\",\n",
       "       'What’s the reason for this approach?',\n",
       "       'I’m not sure what this term refers to.',\n",
       "       'Are you assuming that...?',\n",
       "       'What additional resources would help clarify this?',\n",
       "       'The upcoming conference will cover industry trends.',\n",
       "       \"I'm impressed by your knowledge.\",\n",
       "       'The project goals need to be revised.',\n",
       "       \"I don't get why this is important for our project.\",\n",
       "       \"I'm confused about the purpose of this method.\",\n",
       "       \"Can you explain this in a way that's easier to understand?\",\n",
       "       'What are the implications of this?',\n",
       "       'Could you clarify the steps involved in this process?',\n",
       "       'This is a bit overwhelming.', 'Why is this approach appropriate?',\n",
       "       'Please provide your feedback on the updated proposal.',\n",
       "       'Can you explain this concept in more detail?',\n",
       "       \"That's a great question.\",\n",
       "       \"I'm not sure how this principle applies here.\",\n",
       "       'Why is this method chosen for this purpose?',\n",
       "       \"I'm in complete agreement.\", \"That's a fascinating idea.\",\n",
       "       'Could you clarify the steps involved in this process?',\n",
       "       'Could you shed light on this issue?',\n",
       "       'Can you clarify the purpose of this finding?',\n",
       "       \"Is there something I'm not aware of?\",\n",
       "       'Please update the project status report.',\n",
       "       \"I'll keep that in mind.\", \"That's a very insightful observation.\",\n",
       "       'Could you explain why this is done in this way?',\n",
       "       'How does this relate to the topic at hand?',\n",
       "       'The project team will be meeting to discuss the next steps.',\n",
       "       'Can you give me more context on this subject?', 'I understand.',\n",
       "       'We need to set up a call with the vendor.',\n",
       "       \"That's a very insightful observation.\",\n",
       "       \"I'm starting to see your point.\",\n",
       "       \"I'm questioning the validity of that claim.\",\n",
       "       'Can you define [term]?',\n",
       "       \"I'm not sure how this principle applies here.\",\n",
       "       'The marketing materials are being prepared.', \"I'm a bit lost.\",\n",
       "       'What is the significance of this variable?',\n",
       "       \"I'm not sure that's the case.\", \"That's a clear explanation.\",\n",
       "       'What’s the meaning behind this data?',\n",
       "       'Please review the draft proposal and suggest changes.',\n",
       "       'The client feedback will be reviewed in the next meeting.',\n",
       "       'What does this function accomplish?',\n",
       "       'Please submit your feedback on the draft report.',\n",
       "       'Can you give me an example of what you mean?',\n",
       "       \"I'm following you.\",\n",
       "       'Can you give me an example of what you mean?',\n",
       "       \"I'm not sure if that's achievable.\",\n",
       "       'We need to discuss the project risks and mitigation strategies.',\n",
       "       'Can you explain why this step is crucial?',\n",
       "       \"I've never considered that before.\",\n",
       "       \"I'm not optimistic about the outcome.\",\n",
       "       'What’s the purpose of this analysis?',\n",
       "       'Please schedule a follow-up meeting with the client.',\n",
       "       \"I've never considered that before.\",\n",
       "       'We should plan for a team-building activity soon.',\n",
       "       \"That's a helpful explanation.\", \"I'm starting to see your point.\",\n",
       "       \"I'm having trouble understanding the connection between these two ideas.\",\n",
       "       'How does this concept integrate with the rest of the material?',\n",
       "       'That contradicts what you said earlier.',\n",
       "       'Is this based on the idea that...?',\n",
       "       'The project kickoff meeting will be held next week.',\n",
       "       \"I'm curious to hear more about that.\",\n",
       "       \"That's a helpful explanation.\",\n",
       "       'Can you clarify the implications of this result?',\n",
       "       'What is the expected outcome of this procedure?',\n",
       "       'The new feature will be available in the next software update.',\n",
       "       \"I'm not convinced that's the right solution.\",\n",
       "       \"That's a very insightful observation.\",\n",
       "       \"I'm having difficulty grasping the significance of this topic.\",\n",
       "       'Could you elaborate on that point?',\n",
       "       \"That's a valuable contribution.\", 'Am I missing something here?',\n",
       "       'What does this acronym stand for?',\n",
       "       \"That's a helpful explanation.\",\n",
       "       \"I don't understand the reasoning behind this approach.\",\n",
       "       'Can you provide more details?',\n",
       "       \"I'm not sure that's the right decision for me.\",\n",
       "       'What are the potential pitfalls of this approach?',\n",
       "       'What’s the role of this element in the study?',\n",
       "       'The client has provided additional requirements.',\n",
       "       'What are the key challenges associated with this approach?',\n",
       "       \"I'm confused about the definition of this term.\",\n",
       "       'What are the implications of this decision?',\n",
       "       \"I'm with you on that.\",\n",
       "       'Can you explain the steps in more detail?',\n",
       "       \"I'm concerned about the moral implications of that.\",\n",
       "       'What does this data point suggest?',\n",
       "       'Please complete the review by Friday.',\n",
       "       \"I'm not sure that's the consensus view.\",\n",
       "       'The new system will be implemented next month.',\n",
       "       'Please prepare the necessary documentation for the meeting.',\n",
       "       'Could you clarify the importance of this aspect?',\n",
       "       \"I hadn't thought of that.\", 'Why is this important?',\n",
       "       'We need to finalize the design before the next review.',\n",
       "       \"I don't understand the reasoning behind this approach.\",\n",
       "       \"That's a valid point.\",\n",
       "       'Can you provide a step-by-step explanation of this method?',\n",
       "       'We need to review the final project deliverables.',\n",
       "       'Could you summarize the main points?',\n",
       "       'Could you elaborate on the purpose of this process?',\n",
       "       'Can you clarify the meaning of this phrase?',\n",
       "       \"I'm questioning the urgency of this situation.\",\n",
       "       \"I'm having doubts about this.\", \"That's a good way to put it.\",\n",
       "       \"I'm with you on that.\",\n",
       "       'How does this detail fit into the overall framework?',\n",
       "       'Why is this particular technique used here?',\n",
       "       \"I'm starting to see your point.\",\n",
       "       'The team is working on the next iteration.',\n",
       "       \"That's a fascinating idea.\", 'Why is this aspect important?',\n",
       "       'How does this contribute to the overall argument?',\n",
       "       \"I'm hesitant to go along with the majority.\",\n",
       "       'The deadline for the project is approaching quickly.',\n",
       "       'How does this fit into the context of the project?',\n",
       "       \"I'm confused about the terminology.\",\n",
       "       \"I'm glad you brought that up.\",\n",
       "       \"I'm not convinced that's the best approach.\",\n",
       "       'The team will start working on the new feature next week.',\n",
       "       'How does this finding affect the conclusion?',\n",
       "       'Could you repeat that, please?', 'I agree.',\n",
       "       'I appreciate your perspective.', \"I'm not quite following you.\",\n",
       "       'What are the alternative options?',\n",
       "       'Please submit any changes to the proposal by Friday.',\n",
       "       'Can you explain the significance of this variable?',\n",
       "       \"That's a valid point.\",\n",
       "       \"I'm not entirely certain about the accuracy of that information.\",\n",
       "       'What are the alternative options?',\n",
       "       'What does this result imply for the study?',\n",
       "       \"I'm having trouble connecting these ideas. Can you help?\",\n",
       "       'The team is working on the new marketing strategy.',\n",
       "       'How does this theory apply in practice?',\n",
       "       'I appreciate your perspective.',\n",
       "       'The team is working on addressing the identified issues.',\n",
       "       \"I'm struggling with this concept.\",\n",
       "       'The new policy will be effective starting next month.',\n",
       "       'Please provide an update on the project progress.',\n",
       "       \"I'm in complete agreement.\", \"I'll keep that in mind.\",\n",
       "       \"I'm impressed by your knowledge.\",\n",
       "       \"I'm starting to see your point.\",\n",
       "       \"I'm not sure if this is the best moment.\",\n",
       "       'Could you explain the purpose of this step?',\n",
       "       'The client requirements have been finalized.',\n",
       "       'What is the rationale behind this approach?',\n",
       "       'How does this technique compare to other methods?',\n",
       "       'What are the key takeaways from this section?',\n",
       "       'What are the key takeaways from this?', 'Why is this important?',\n",
       "       'What additional information is needed to fully grasp this?',\n",
       "       'The team is preparing for the product launch.',\n",
       "       \"That's a good question.\", \"That's a very insightful observation.\",\n",
       "       \"I'll keep that in mind.\",\n",
       "       'How does this concept impact our overall strategy?',\n",
       "       'I’m confused about the use of this function.',\n",
       "       'Please review the new guidelines and provide feedback.',\n",
       "       'How does this information contribute to the study?',\n",
       "       'I appreciate your perspective.',\n",
       "       'The project timeline will be adjusted based on feedback.',\n",
       "       \"I'm questioning the validity of that opinion.\",\n",
       "       \"I'm not sure I see how that follows.\",\n",
       "       'Why is this method used here?',\n",
       "       'The meeting agenda will be sent out tomorrow.',\n",
       "       'Why is this step necessary?',\n",
       "       'The design review meeting is scheduled for Monday.',\n",
       "       \"I'm glad you brought that up.\",\n",
       "       \"I've never considered that before.\",\n",
       "       \"Is there something I'm not aware of?\",\n",
       "       'Can you shed some light on why this approach was chosen?',\n",
       "       'How does this information fit into the bigger picture?',\n",
       "       'What’s the significance of this piece of information?',\n",
       "       'The project deliverables will be assessed in the next review.',\n",
       "       \"That's a great question.\", 'Are you assuming that...?',\n",
       "       \"I'm not sure that's realistic.\",\n",
       "       'Does that mean we have to assume that...?',\n",
       "       'Could you provide more details on this topic?',\n",
       "       \"I'm not clear on the rationale behind this decision.\",\n",
       "       \"That's a valuable contribution.\",\n",
       "       \"I'm not sure I understand the reasoning behind that.\",\n",
       "       \"I'm with you on that.\",\n",
       "       'I’m unsure about the interpretation of this result.',\n",
       "       \"That doesn't seem right to me.\",\n",
       "       'Can you provide more details about this result?',\n",
       "       \"I'm questioning the wisdom of that choice.\",\n",
       "       'The report needs to be submitted by the end of the week.',\n",
       "       'What’s the relevance of this detail to the argument?',\n",
       "       'Can you say that again in a different way?',\n",
       "       \"I'm having trouble visualizing this.\",\n",
       "       'What’s the impact of this finding on the study?',\n",
       "       \"I'm impressed by your knowledge.\",\n",
       "       \"I'm questioning the sustainability of this approach.\",\n",
       "       \"I'm not sure that's ethical.\",\n",
       "       'How should I interpret this data point?',\n",
       "       'Does that mean we have to assume that...?',\n",
       "       'Can you clarify the expected results from this procedure?',\n",
       "       'How does this relate to the overall objective?',\n",
       "       \"That's a thought-provoking concept.\",\n",
       "       \"I'm glad you brought that up.\",\n",
       "       'Please submit your reports by the end of the week.',\n",
       "       \"That's a very insightful observation.\",\n",
       "       'The team is working on the new feature release.',\n",
       "       \"I'm skeptical about the possibility of that happening.\",\n",
       "       \"That's a great question.\",\n",
       "       'Please prepare the necessary documents for the audit.',\n",
       "       'Is this based on the idea that...?',\n",
       "       'Please confirm your attendance for the upcoming meeting.',\n",
       "       \"I'm not sure that's feasible.\", \"I'm not sure I believe that.\",\n",
       "       'Can you explain the importance of this finding?',\n",
       "       'I’m not clear on the significance of this step.',\n",
       "       'That contradicts what you said earlier.',\n",
       "       \"I'm impressed by your knowledge.\", \"I'm following you.\",\n",
       "       'The marketing campaign is underway.',\n",
       "       'What’s the meaning of this term in this context?',\n",
       "       'What exactly does this term refer to?',\n",
       "       'Could you provide an example?', \"I'm a bit hesitant to agree.\",\n",
       "       'How does this piece fit into the whole picture?',\n",
       "       \"I'm in complete agreement.\", 'Can you elaborate on this point?',\n",
       "       'What should we be cautious about when using this method?',\n",
       "       'The new feature will enhance user experience.',\n",
       "       'The new policy will be communicated to all employees.',\n",
       "       \"That's a valid point.\",\n",
       "       'I’m confused about the rationale behind this.',\n",
       "       'We need to address any issues identified during the review.',\n",
       "       \"I'll keep that in mind.\",\n",
       "       'Can you explain the impact of this finding?',\n",
       "       \"I'm concerned about the potential dissenting opinions.\",\n",
       "       \"I'm glad you brought that up.\",\n",
       "       \"I'm not sure how to interpret this result.\",\n",
       "       'What is the significance of this finding?',\n",
       "       'Can you provide more insight into this topic?',\n",
       "       'I’m lost on how to apply this concept.',\n",
       "       \"I'm not convinced that's the best approach.\",\n",
       "       'How does this fit into the bigger picture?',\n",
       "       'How does this piece fit into the larger context?',\n",
       "       'Could you simplify this explanation?',\n",
       "       'We should review the project milestones.', \"I didn't catch that.\",\n",
       "       'What’s the relevance of this observation?', \"That's interesting.\",\n",
       "       \"That's a clear explanation.\", \"That's a valuable observation.\",\n",
       "       'Can you use simpler terms?',\n",
       "       'Why is this method chosen for this analysis?',\n",
       "       'We need to update the project documentation.',\n",
       "       'Can you break down this argument?',\n",
       "       'Could you summarize the main points?',\n",
       "       'We need to finalize the vendor contracts.',\n",
       "       'The team is preparing for the final review meeting.',\n",
       "       \"I'm having doubts about this.\",\n",
       "       'How does this concept relate to previous knowledge?',\n",
       "       \"I'm starting to see your point.\",\n",
       "       'What’s the meaning of this finding?', \"I'm feeling a bit lost.\",\n",
       "       'Can you provide a summary of this process?',\n",
       "       \"That's a valuable contribution.\",\n",
       "       'Can you clarify the role of this step in the overall process?',\n",
       "       'The project schedule will be updated based on the latest inputs.',\n",
       "       \"I'm in complete agreement.\",\n",
       "       'I have some reservations about that.',\n",
       "       \"I'm not sure this is the right time.\", \"That's a valid point.\",\n",
       "       'The new feature will enhance the overall user experience.',\n",
       "       'The new software will improve productivity.',\n",
       "       'We need to analyze the survey results before the presentation.',\n",
       "       'The team is preparing for the product demo.',\n",
       "       'Am I missing something here?',\n",
       "       'Why is this observation important for the conclusion?',\n",
       "       'How does this concept apply to the problem?',\n",
       "       'How does this connect with previous findings?',\n",
       "       \"That's a great question.\",\n",
       "       'What are the benefits of using this approach?',\n",
       "       'How does this concept relate to our previous discussions?',\n",
       "       \"I'm not sure that's the right thing to do.\",\n",
       "       \"I'm concerned about the potential negative consequences for me.\",\n",
       "       'Can you break down this explanation?',\n",
       "       'I’m confused about the expected results.',\n",
       "       \"Is there something I'm not aware of?\",\n",
       "       'What is the significance of this detail in the context of the project?',\n",
       "       \"I'll keep that in mind.\", \"I'm curious to hear more about that.\",\n",
       "       \"I'll keep that in mind.\", \"I'm curious to hear more about that.\",\n",
       "       \"I'll keep that in mind.\", \"I've never considered that before.\",\n",
       "       'We need to discuss the budget for the next quarter.',\n",
       "       'Can you provide additional insights into this topic?',\n",
       "       \"That's a fascinating idea.\", 'Can you break that down for me?',\n",
       "       'The sales report will be shared with the team.',\n",
       "       'Why is this approach taken?', \"I'm glad you brought that up.\",\n",
       "       \"I'm questioning the morality of that decision.\",\n",
       "       \"I'm confused about the purpose of this step.\",\n",
       "       \"I'm unsure about the next steps in this process.\",\n",
       "       'The product development is on track.',\n",
       "       'The new feature will be tested in the next release.',\n",
       "       \"I'm a bit worried about the potential consequences.\",\n",
       "       \"That's a fascinating idea.\",\n",
       "       \"I'm a bit skeptical about that claim.\",\n",
       "       'What are the main objectives we should focus on here?',\n",
       "       'Can you clarify the purpose of this procedure?',\n",
       "       \"That's a clear explanation.\",\n",
       "       'Please check your email for the latest updates.',\n",
       "       \"I'm hesitant to make long-term commitments.\",\n",
       "       'How does this fit into the bigger picture?',\n",
       "       'The upcoming training session will cover advanced topics.',\n",
       "       'What does this result suggest about the overall study?',\n",
       "       'Could you explain the logic behind this algorithm?',\n",
       "       'What is the purpose of this specific detail?',\n",
       "       'Why is this step included in the process?',\n",
       "       'Why is this information relevant?',\n",
       "       'What does this data suggest?', 'Why is this result notable?',\n",
       "       'How does this approach differ from traditional methods?',\n",
       "       \"I'm having difficulty following the logic here.\",\n",
       "       \"I'm concerned that things might not work out as planned.\",\n",
       "       'How should I understand this concept?',\n",
       "       \"I'm not sure how this information will be useful.\",\n",
       "       'The client feedback was very positive.',\n",
       "       'Could you please explain that again?',\n",
       "       'Could you repeat that, please?',\n",
       "       'What’s the objective of this finding?',\n",
       "       \"I think there's a flaw in that logic.\",\n",
       "       \"That's a thought-provoking concept.\",\n",
       "       'How does this concept integrate with the previous ones?',\n",
       "       'How does this relate to previous findings?',\n",
       "       \"I'm confused about the application of this concept in practice.\",\n",
       "       \"I'm not convinced that's the best approach.\",\n",
       "       \"I'm skeptical about the reliability of that source.\",\n",
       "       'We need to assess the impact of the new policy.',\n",
       "       'The next phase of the project will start next month.',\n",
       "       \"I'm following you.\",\n",
       "       'We need to finalize the project requirements.',\n",
       "       \"I've never considered that before.\",\n",
       "       'What does this detail contribute to the analysis?',\n",
       "       'Can you say that again in a different way?',\n",
       "       \"I'm not clear about the connection between A and B.\",\n",
       "       'What are the core principles behind this method?',\n",
       "       'What does this statement mean in context?',\n",
       "       'Can you clarify the steps to be taken?',\n",
       "       'Can you break down this explanation further?',\n",
       "       'Why did you choose this method?',\n",
       "       'The team will start working on the next phase.',\n",
       "       'Can you go over that one more time?',\n",
       "       \"I'm concerned about the timing of this decision.\",\n",
       "       'The training session will be held on Tuesday.',\n",
       "       \"That's a valuable contribution.\",\n",
       "       'What’s the objective of this analysis?',\n",
       "       \"I'm not completely convinced.\",\n",
       "       'Can you elaborate on this point further?',\n",
       "       'The marketing materials will be distributed next week.',\n",
       "       'The financial report is due at the end of the month.',\n",
       "       \"I'm hesitant to act right now.\",\n",
       "       \"That's a thought-provoking concept.\", \"I'm following you.\",\n",
       "       \"That's a helpful explanation.\",\n",
       "       'Why is this detail included in the analysis?',\n",
       "       \"That's a very insightful observation.\",\n",
       "       'Can you provide an example to illustrate this concept?',\n",
       "       'How does this affect the overall project?',\n",
       "       'Can you elaborate on this detail in more depth?',\n",
       "       'Can you give a concrete example of this concept?',\n",
       "       'The team is preparing for the annual review.',\n",
       "       'Please check the latest updates on the project status.',\n",
       "       'We need to finalize the project budget and schedule.',\n",
       "       \"I'm curious to hear more about that.\",\n",
       "       'We need to discuss the project budget in detail.',\n",
       "       'I appreciate your perspective.', \"What's the goal here?\",\n",
       "       \"That's a good way to put it.\",\n",
       "       'How does this relate to the previous results?',\n",
       "       'What does this notation mean in this context?',\n",
       "       'The marketing strategy will be reviewed in the next meeting.',\n",
       "       'How does this connect with the theory?',\n",
       "       \"I don't understand how this principle applies to our case.\",\n",
       "       'The marketing strategy will be reviewed in the upcoming meeting.',\n",
       "       'Can you explain the significance of this finding?',\n",
       "       'Is there any additional context you can give us?',\n",
       "       \"That's a great question.\",\n",
       "       'How does this fit with other observations?',\n",
       "       \"I'm having doubts about this.\", \"I'm with you on that.\",\n",
       "       \"That's a valid point.\",\n",
       "       'I don’t get why this approach was chosen.',\n",
       "       \"That's a thought-provoking concept.\",\n",
       "       \"I'm in complete agreement.\",\n",
       "       'Why is this approach preferred over others?',\n",
       "       'Can you break down the importance of this detail?',\n",
       "       \"I'm not sure that's the case.\", \"That's a good way to put it.\",\n",
       "       \"I'm with you on that.\", \"I've never considered that before.\",\n",
       "       \"I'm glad you mentioned that.\", \"What's the point of this?\",\n",
       "       'I don’t understand the relevance of this detail.',\n",
       "       'The team is working on implementing the feedback.',\n",
       "       \"I'm following you.\", 'I’m unsure about the use of this method.',\n",
       "       'Can you provide a real-world scenario?', \"I'm with you on that.\",\n",
       "       'We need to address the issues raised in the review.',\n",
       "       \"That's a helpful explanation.\", \"I'm following you.\",\n",
       "       'How does this affect the overall outcome?',\n",
       "       \"I'm glad you brought that up.\",\n",
       "       'The team is working on improving the current features.',\n",
       "       \"I'm impressed by your knowledge.\",\n",
       "       'The proposal needs to be revised based on feedback.',\n",
       "       'What is the relevance of this detail?',\n",
       "       \"I'm finding this difficult to understand.\",\n",
       "       'What’s the reasoning behind this approach?',\n",
       "       'Am I missing something here?', 'I appreciate your perspective.',\n",
       "       'Why is this observation significant?',\n",
       "       \"That's a good way to put it.\",\n",
       "       'Why are we using this specific model in our analysis?',\n",
       "       'How does this part fit into the overall framework?',\n",
       "       'What should we be focusing on in this section?',\n",
       "       \"That's a good way to put it.\",\n",
       "       \"I'm confused about how to apply this principle in practice.\",\n",
       "       \"I'm starting to see your point.\",\n",
       "       'I’m unsure about the reason for this change.',\n",
       "       'I don’t see how this ties into the overall argument.',\n",
       "       \"That's a clear explanation.\",\n",
       "       'We need to finalize the project requirements and scope.',\n",
       "       'Is there any additional context you can give us?',\n",
       "       'Can you give me an example of this concept?',\n",
       "       \"That's a thought-provoking concept.\",\n",
       "       \"What do you mean by 'contextual analysis'?\",\n",
       "       \"I'm finding this difficult to understand.\",\n",
       "       \"That's very insightful.\",\n",
       "       'The project deliverables will be reviewed in the next meeting.',\n",
       "       'I’m not sure how to proceed with this.',\n",
       "       'The new policy will be implemented next week.',\n",
       "       \"I'm concerned about what might happen next.\",\n",
       "       'What’s the purpose of this analysis?',\n",
       "       'Could you elaborate on the significance of this finding?',\n",
       "       'What are the practical applications of this concept?',\n",
       "       'Why is this step necessary for solving the problem?',\n",
       "       'Can you provide more examples to illustrate this point?',\n",
       "       'The project plan will be updated based on the latest feedback.',\n",
       "       'Can you explain the relevance of this step?',\n",
       "       'We need to finalize the implementation strategy for the new system.',\n",
       "       'That makes sense.',\n",
       "       'We need to finalize the product launch date.',\n",
       "       \"I'm hesitant to take that risk.\",\n",
       "       'The team is preparing for the next phase of development.',\n",
       "       'The new system will be launched next quarter.',\n",
       "       'What are the potential drawbacks?',\n",
       "       'What’s the significance of this observation?',\n",
       "       'I appreciate your perspective.',\n",
       "       'The marketing strategy will be reviewed in the next phase.',\n",
       "       'What is the expected outcome of this experiment?',\n",
       "       'The team will start working on the next iteration of the product.',\n",
       "       'We need to update the project plan.',\n",
       "       'The upcoming conference will focus on new technologies.',\n",
       "       \"That's a clear explanation.\",\n",
       "       'The project plan will be updated to reflect the latest feedback.',\n",
       "       'The project status will be reviewed in the upcoming meeting.',\n",
       "       'I disagree with that.',\n",
       "       'Can you explain the significance of this result?',\n",
       "       \"I'm not entirely convinced.\",\n",
       "       'Can you clarify the steps involved?',\n",
       "       \"That's a valuable contribution.\",\n",
       "       'What does this information tell us?', \"What's the point of this?\",\n",
       "       'Why is this finding important?',\n",
       "       'Why is this analysis necessary?',\n",
       "       \"I'm still on the fence about it.\",\n",
       "       'The software update is scheduled for next month.',\n",
       "       'Can you clarify the difference between these two terms?',\n",
       "       \"I'm feeling a bit lost.\", \"I'm not convinced that's accurate.\",\n",
       "       \"I'm not sure how this technique will help with our analysis.\",\n",
       "       'Why is this particular detail important?',\n",
       "       'Could you explain this topic in simpler terms?',\n",
       "       \"I'm not sure I understand what you mean.\",\n",
       "       'Can you explain this concept in more detail?',\n",
       "       \"I'm hesitant to agree with that.\",\n",
       "       \"That's a thought-provoking concept.\",\n",
       "       'What is the underlying principle here?',\n",
       "       \"Can you explain this in a way that's easier to understand?\",\n",
       "       'What’s the role of this detail in the analysis?',\n",
       "       'How does this piece of information contribute to our understanding?',\n",
       "       'Can you elaborate on the impact of this?',\n",
       "       'Could you provide more context on this topic?',\n",
       "       \"I'm hesitant to agree with that.\",\n",
       "       'How does this step influence the overall outcome?',\n",
       "       'I appreciate your perspective.',\n",
       "       'What’s the role of this observation in the study?',\n",
       "       'How does this contribute to our understanding of the topic?',\n",
       "       'What’s the impact of this step?',\n",
       "       \"Let's finalize the schedule for the upcoming meeting.\",\n",
       "       'Can you clarify the meaning of this term?',\n",
       "       'What does this outcome indicate?',\n",
       "       \"I'm not sure everyone agrees with that.\",\n",
       "       'Could you illustrate that with a diagram?',\n",
       "       'The project status will be updated based on recent developments.',\n",
       "       'Could you illustrate that with a diagram?',\n",
       "       'Please provide your availability for the team meeting.',\n",
       "       \"That's a fascinating idea.\",\n",
       "       \"What do you mean by 'complexity' in this context?\",\n",
       "       'What’s the rationale behind this decision?',\n",
       "       'This is a bit overwhelming.',\n",
       "       'The proposal will be submitted by the end of the day.',\n",
       "       'Can you clarify the implications of this result?',\n",
       "       \"That's a great question.\", \"I'll keep that in mind.\",\n",
       "       'We need to finalize the project deliverables.',\n",
       "       'How does this fit with the rest of the information?',\n",
       "       'The team is working on addressing the identified issues.',\n",
       "       'How should I interpret this result?',\n",
       "       \"I'm not sure if this is the right path.\",\n",
       "       'The new system features will be demonstrated to the team.',\n",
       "       \"I'm not sure if this is the right path for me.\",\n",
       "       'What does this result mean in practical terms?',\n",
       "       'Can you provide more details?', \"That's a valid point.\",\n",
       "       'Could you provide an example to make this clearer?',\n",
       "       'The budget approval is pending.', \"That's a great point.\",\n",
       "       \"I'm in complete agreement.\",\n",
       "       'Does that mean we have to assume that...?',\n",
       "       'Could you go over this part again?', \"That's a great question.\",\n",
       "       \"I'm curious to hear more about that.\",\n",
       "       'Could you elaborate on the implications of this finding?',\n",
       "       'What’s the significance of this detail in the context?',\n",
       "       \"That's a clear explanation.\",\n",
       "       \"I'm not clear on how this fits into the overall plan.\",\n",
       "       \"I'm not entirely convinced.\",\n",
       "       'How should this information be used?',\n",
       "       'I don’t understand how this algorithm works.',\n",
       "       'What are the underlying principles behind this technique?',\n",
       "       'Can you provide a more detailed breakdown of this process?',\n",
       "       'We need to discuss the implementation strategy in detail.',\n",
       "       \"What do you mean by 'complexity' in this context?\",\n",
       "       'Can you clarify the meaning of this outcome?',\n",
       "       \"I didn't catch that.\", 'What are the implications of this?',\n",
       "       'Please provide an update on the project milestones.',\n",
       "       'What does this outcome tell us?',\n",
       "       \"I'm impressed by your knowledge.\",\n",
       "       'How does this relate to the topic at hand?',\n",
       "       'What does this data point reveal?',\n",
       "       'Please review the draft and provide your comments.',\n",
       "       'What’s the objective of this observation?',\n",
       "       'What’s the objective of this step?',\n",
       "       \"I'm not entirely convinced.\",\n",
       "       'The team will be working on the final deliverables this week.',\n",
       "       'What does this finding suggest?',\n",
       "       'Can you explain the reasoning behind this step?',\n",
       "       'How should this finding be understood?',\n",
       "       \"I'm not sure what the implications of this are.\",\n",
       "       'What does this observation imply?',\n",
       "       'The project scope has been defined.',\n",
       "       'How does this contribute to the overall understanding?',\n",
       "       \"That's a helpful explanation.\",\n",
       "       'I’m puzzled by the use of this technique.',\n",
       "       \"I'm unsure about the implications of this result.\",\n",
       "       'The team will start the development phase next week.',\n",
       "       \"I'm not sure about the future.\",\n",
       "       \"That's a valuable contribution.\",\n",
       "       'The client has approved the new design.',\n",
       "       'What is the underlying reason for this decision?',\n",
       "       'The project timeline will be adjusted based on the latest inputs.',\n",
       "       \"I'm struggling with this concept.\",\n",
       "       'What are the expected benefits of this approach?',\n",
       "       \"That's a fascinating idea.\", \"That's a clear explanation.\",\n",
       "       \"I'm following you.\", \"I'm not entirely sure about that.\",\n",
       "       'I’m having trouble understanding the last part.',\n",
       "       'What are the practical considerations for implementing this?',\n",
       "       'Could you clarify the expected outcomes of this technique?',\n",
       "       \"I'm with you on that.\",\n",
       "       'The client request has been acknowledged.',\n",
       "       'The performance metrics will be evaluated next quarter.',\n",
       "       'What are the underlying assumptions in this method?',\n",
       "       'Can you provide a real-world scenario?',\n",
       "       \"I'm concerned about the practicality of that.\",\n",
       "       \"I'm not sure that's in my best interest.\"], dtype=object)"
      ]
     },
     "execution_count": 28,
     "metadata": {},
     "output_type": "execute_result"
    }
   ],
   "source": [
    "df[df.data_type=='train'].Sentence.values"
   ]
  },
  {
   "cell_type": "code",
   "execution_count": 29,
   "id": "0df3d667",
   "metadata": {},
   "outputs": [
    {
     "data": {
      "text/plain": [
       "Sentence     How is this concept applied in real scenarios?\n",
       "Label                                              confused\n",
       "label                                                     1\n",
       "data_type                                               val\n",
       "Name: 166, dtype: object"
      ]
     },
     "execution_count": 29,
     "metadata": {},
     "output_type": "execute_result"
    }
   ],
   "source": [
    "df.iloc[X_val[0]]"
   ]
  },
  {
   "cell_type": "code",
   "execution_count": 30,
   "id": "276489e5",
   "metadata": {},
   "outputs": [
    {
     "data": {
      "text/plain": [
       "Sentence     That's a thought-provoking concept.\n",
       "Label                               not confused\n",
       "label                                          0\n",
       "data_type                                  train\n",
       "Name: 1, dtype: object"
      ]
     },
     "execution_count": 30,
     "metadata": {},
     "output_type": "execute_result"
    }
   ],
   "source": [
    "df.iloc[y_val[0]]"
   ]
  },
  {
   "cell_type": "code",
   "execution_count": 31,
   "id": "6ed3df50",
   "metadata": {},
   "outputs": [
    {
     "data": {
      "text/plain": [
       "166"
      ]
     },
     "execution_count": 31,
     "metadata": {},
     "output_type": "execute_result"
    }
   ],
   "source": [
    "X_val[0]"
   ]
  },
  {
   "cell_type": "code",
   "execution_count": 65,
   "id": "87735a81",
   "metadata": {},
   "outputs": [],
   "source": [
    "# from transformers import AutoTokenizer\n",
    "# import torch\n",
    "# import pandas as pd\n",
    "\n",
    "# # Replace 'model_name' with the name of the pre-trained model you're using\n",
    "# model_name = 'bert-base-uncased'\n",
    "# tokenizer = AutoTokenizer.from_pretrained(model_name)\n",
    "\n",
    "# # Assuming you have a DataFrame named 'df'\n",
    "# for index, row in df.iterrows():\n",
    "#     data_type = row['data_type']\n",
    "#     message = row['message']\n",
    "#     label = row['label']\n",
    "\n",
    "#     encoded_data = tokenizer.encode_plus(\n",
    "#         text=message,\n",
    "#         add_special_tokens=True,\n",
    "#         return_attention_mask=True,\n",
    "#         pad_to_max_length=True,\n",
    "#         max_length=256,\n",
    "#         return_tensors='pt'\n",
    "#     )\n",
    "\n",
    "#     input_ids = encoded_data['input_ids']\n",
    "#     attention_mask = encoded_data['attention_mask']\n",
    "    \n",
    "#     #print(f\"Processing row {index + 1} - Data Type: {data_type}, Message: {message}, Label: {label}\")\n",
    "    \n",
    "#     # Here you can proceed with storing or processing 'input_ids', 'attention_mask', and 'label'\n",
    " "
   ]
  },
  {
   "cell_type": "code",
   "execution_count": 33,
   "id": "00940b72",
   "metadata": {},
   "outputs": [
    {
     "name": "stderr",
     "output_type": "stream",
     "text": [
      "Truncation was not explicitly activated but `max_length` is provided a specific value, please use `truncation=True` to explicitly truncate examples to max length. Defaulting to 'longest_first' truncation strategy. If you encode pairs of sequences (GLUE-style) with the tokenizer you can select this strategy more precisely by providing a specific strategy to `truncation`.\n",
      "/home/mdr614/anaconda3/envs/toxic_gru/lib/python3.8/site-packages/transformers/tokenization_utils_base.py:2619: FutureWarning: The `pad_to_max_length` argument is deprecated and will be removed in a future version, use `padding=True` or `padding='longest'` to pad to the longest sequence in the batch, or use `padding='max_length'` to pad to a max length. In this case, you can give a specific length with `max_length` (e.g. `max_length=45`) or leave max_length to None to pad to the maximal input size of the model (e.g. 512 for Bert).\n",
      "  warnings.warn(\n"
     ]
    }
   ],
   "source": [
    "encoded_data_train = tokenizer.batch_encode_plus(\n",
    "    df[df.data_type=='train'].Sentence.values, \n",
    "    add_special_tokens=True, \n",
    "    return_attention_mask=True, \n",
    "    pad_to_max_length=True, \n",
    "    max_length=256, \n",
    "    return_tensors='pt'\n",
    ")\n",
    "\n",
    "encoded_data_val = tokenizer.batch_encode_plus(\n",
    "    df[df.data_type=='val'].Sentence.values, \n",
    "    add_special_tokens=True, \n",
    "    return_attention_mask=True, \n",
    "    pad_to_max_length=True, \n",
    "    max_length=256, \n",
    "    return_tensors='pt'\n",
    ")\n",
    "\n",
    "\n",
    "input_ids_train = encoded_data_train['input_ids']\n",
    "attention_masks_train = encoded_data_train['attention_mask']\n",
    "labels_train = torch.tensor(df[df.data_type=='train'].label.values)\n",
    "\n",
    "input_ids_val = encoded_data_val['input_ids']\n",
    "attention_masks_val = encoded_data_val['attention_mask']\n",
    "labels_val = torch.tensor(df[df.data_type=='val'].label.values)"
   ]
  },
  {
   "cell_type": "code",
   "execution_count": 34,
   "id": "8ccf04ff",
   "metadata": {},
   "outputs": [],
   "source": [
    "dataset_train = TensorDataset(input_ids_train, attention_masks_train, labels_train)\n",
    "dataset_val = TensorDataset(input_ids_val, attention_masks_val, labels_val)"
   ]
  },
  {
   "cell_type": "code",
   "execution_count": 35,
   "id": "b499bb90",
   "metadata": {},
   "outputs": [
    {
     "data": {
      "text/plain": [
       "600"
      ]
     },
     "execution_count": 35,
     "metadata": {},
     "output_type": "execute_result"
    }
   ],
   "source": [
    "len(dataset_train)"
   ]
  },
  {
   "cell_type": "code",
   "execution_count": 36,
   "id": "ccff5eff",
   "metadata": {},
   "outputs": [
    {
     "data": {
      "text/plain": [
       "106"
      ]
     },
     "execution_count": 36,
     "metadata": {},
     "output_type": "execute_result"
    }
   ],
   "source": [
    "len(dataset_val)"
   ]
  },
  {
   "cell_type": "code",
   "execution_count": 37,
   "id": "7b4ab05b",
   "metadata": {},
   "outputs": [
    {
     "data": {
      "application/vnd.jupyter.widget-view+json": {
       "model_id": "e7caaa8c75d44865961edaad3698e057",
       "version_major": 2,
       "version_minor": 0
      },
      "text/plain": [
       "model.safetensors:   0%|          | 0.00/440M [00:00<?, ?B/s]"
      ]
     },
     "metadata": {},
     "output_type": "display_data"
    },
    {
     "name": "stderr",
     "output_type": "stream",
     "text": [
      "Some weights of BertForSequenceClassification were not initialized from the model checkpoint at bert-base-uncased and are newly initialized: ['classifier.bias', 'classifier.weight']\n",
      "You should probably TRAIN this model on a down-stream task to be able to use it for predictions and inference.\n"
     ]
    }
   ],
   "source": [
    "from transformers import BertForSequenceClassification\n",
    "model = BertForSequenceClassification.from_pretrained(\"bert-base-uncased\",\n",
    "                                                      num_labels=len(label_dict),\n",
    "                                                      output_attentions=False,\n",
    "                                                      output_hidden_states=False)"
   ]
  },
  {
   "cell_type": "code",
   "execution_count": 38,
   "id": "68bfc532",
   "metadata": {},
   "outputs": [],
   "source": [
    "from torch.utils.data import DataLoader, RandomSampler, SequentialSampler"
   ]
  },
  {
   "cell_type": "code",
   "execution_count": 40,
   "id": "3d6fd2eb",
   "metadata": {},
   "outputs": [],
   "source": [
    "batch_size = 8\n",
    "\n",
    "dataloader_train = DataLoader(dataset_train, \n",
    "                              sampler=RandomSampler(dataset_train), \n",
    "                              batch_size=batch_size)\n",
    "\n",
    "dataloader_validation = DataLoader(dataset_val, \n",
    "                                   sampler=SequentialSampler(dataset_val), \n",
    "                                   batch_size=batch_size)"
   ]
  },
  {
   "cell_type": "code",
   "execution_count": 41,
   "id": "339c8430",
   "metadata": {},
   "outputs": [],
   "source": [
    "from transformers import get_linear_schedule_with_warmup"
   ]
  },
  {
   "cell_type": "code",
   "execution_count": 42,
   "id": "d0c94701",
   "metadata": {},
   "outputs": [],
   "source": [
    "from torch.optim import AdamW\n",
    "optimizer = AdamW(model.parameters(),\n",
    "                  lr=1e-5, \n",
    "                  eps=1e-8)"
   ]
  },
  {
   "cell_type": "code",
   "execution_count": 43,
   "id": "01f3ddf9",
   "metadata": {},
   "outputs": [],
   "source": [
    "epochs = 5\n",
    "\n",
    "scheduler = get_linear_schedule_with_warmup(optimizer, \n",
    "                                            num_warmup_steps=0,\n",
    "                                            num_training_steps=len(dataloader_train)*epochs)"
   ]
  },
  {
   "cell_type": "code",
   "execution_count": 44,
   "id": "a3d4ee5e",
   "metadata": {},
   "outputs": [],
   "source": [
    "import numpy as np\n",
    "from sklearn.metrics import f1_score"
   ]
  },
  {
   "cell_type": "code",
   "execution_count": 45,
   "id": "87f127f5",
   "metadata": {},
   "outputs": [],
   "source": [
    "def f1_score_func(preds, labels):\n",
    "    preds_flat = np.argmax(preds, axis=1).flatten()\n",
    "    labels_flat = labels.flatten()\n",
    "    return f1_score(labels_flat, preds_flat, average='weighted')"
   ]
  },
  {
   "cell_type": "code",
   "execution_count": 46,
   "id": "1f0bfc07",
   "metadata": {},
   "outputs": [],
   "source": [
    "def accuracy_per_class(preds, labels):\n",
    "    label_dict_inverse = {v: k for k, v in label_dict.items()}\n",
    "    \n",
    "    preds_flat = np.argmax(preds, axis=1).flatten()\n",
    "    labels_flat = labels.flatten()\n",
    "\n",
    "    for label in np.unique(labels_flat):\n",
    "        y_preds = preds_flat[labels_flat==label]\n",
    "        y_true = labels_flat[labels_flat==label]\n",
    "        print(f'Class: {label_dict_inverse[label]}')\n",
    "        print(f'Accuracy: {len(y_preds[y_preds==label])}/{len(y_true)}\\n')"
   ]
  },
  {
   "cell_type": "code",
   "execution_count": 47,
   "id": "63ac8eba",
   "metadata": {},
   "outputs": [],
   "source": [
    "import random\n",
    "\n",
    "seed_val = 17\n",
    "random.seed(seed_val)\n",
    "np.random.seed(seed_val)\n",
    "torch.manual_seed(seed_val)\n",
    "torch.cuda.manual_seed_all(seed_val)"
   ]
  },
  {
   "cell_type": "code",
   "execution_count": 48,
   "id": "dfe92cc2",
   "metadata": {},
   "outputs": [
    {
     "name": "stdout",
     "output_type": "stream",
     "text": [
      "cuda\n"
     ]
    }
   ],
   "source": [
    "device = torch.device('cuda' if torch.cuda.is_available() else 'cpu')\n",
    "model.to(device)\n",
    "\n",
    "print(device)"
   ]
  },
  {
   "cell_type": "code",
   "execution_count": 49,
   "id": "c8835969",
   "metadata": {},
   "outputs": [],
   "source": [
    "def evaluate(dataloader_val):\n",
    "\n",
    "    model.eval()\n",
    "    \n",
    "    loss_val_total = 0\n",
    "    predictions, true_vals = [], []\n",
    "    \n",
    "    for batch in dataloader_val:\n",
    "        \n",
    "        batch = tuple(b.to(device) for b in batch)\n",
    "        \n",
    "        inputs = {'input_ids':      batch[0],\n",
    "                  'attention_mask': batch[1],\n",
    "                  'labels':         batch[2],\n",
    "                 }\n",
    "\n",
    "        with torch.no_grad():        \n",
    "            outputs = model(**inputs)\n",
    "            \n",
    "        loss = outputs[0]\n",
    "        logits = outputs[1]\n",
    "        loss_val_total += loss.item()\n",
    "\n",
    "        logits = logits.detach().cpu().numpy()\n",
    "        label_ids = inputs['labels'].cpu().numpy()\n",
    "        predictions.append(logits)\n",
    "        true_vals.append(label_ids)\n",
    "    \n",
    "    loss_val_avg = loss_val_total/len(dataloader_val) \n",
    "    \n",
    "    predictions = np.concatenate(predictions, axis=0)\n",
    "    true_vals = np.concatenate(true_vals, axis=0)\n",
    "            \n",
    "    return loss_val_avg, predictions, true_vals"
   ]
  },
  {
   "cell_type": "code",
   "execution_count": 50,
   "id": "db5b24ef",
   "metadata": {},
   "outputs": [
    {
     "data": {
      "application/vnd.jupyter.widget-view+json": {
       "model_id": "23d164f62af144a98ac2a87f6a74695f",
       "version_major": 2,
       "version_minor": 0
      },
      "text/plain": [
       "  0%|          | 0/5 [00:00<?, ?it/s]"
      ]
     },
     "metadata": {},
     "output_type": "display_data"
    },
    {
     "data": {
      "application/vnd.jupyter.widget-view+json": {
       "model_id": "",
       "version_major": 2,
       "version_minor": 0
      },
      "text/plain": [
       "Epoch 1:   0%|          | 0/75 [00:00<?, ?it/s]"
      ]
     },
     "metadata": {},
     "output_type": "display_data"
    },
    {
     "name": "stdout",
     "output_type": "stream",
     "text": [
      "\n",
      "Epoch 1\n",
      "Training loss: 0.3522439541419347\n",
      "Validation loss: 0.07990533193307263\n",
      "F1 Score (Weighted): 1.0\n"
     ]
    },
    {
     "data": {
      "application/vnd.jupyter.widget-view+json": {
       "model_id": "",
       "version_major": 2,
       "version_minor": 0
      },
      "text/plain": [
       "Epoch 2:   0%|          | 0/75 [00:00<?, ?it/s]"
      ]
     },
     "metadata": {},
     "output_type": "display_data"
    },
    {
     "name": "stdout",
     "output_type": "stream",
     "text": [
      "\n",
      "Epoch 2\n",
      "Training loss: 0.041354295803854864\n",
      "Validation loss: 0.007717172831429967\n",
      "F1 Score (Weighted): 1.0\n"
     ]
    },
    {
     "data": {
      "application/vnd.jupyter.widget-view+json": {
       "model_id": "",
       "version_major": 2,
       "version_minor": 0
      },
      "text/plain": [
       "Epoch 3:   0%|          | 0/75 [00:00<?, ?it/s]"
      ]
     },
     "metadata": {},
     "output_type": "display_data"
    },
    {
     "name": "stdout",
     "output_type": "stream",
     "text": [
      "\n",
      "Epoch 3\n",
      "Training loss: 0.006475128953655561\n",
      "Validation loss: 0.003480867640714028\n",
      "F1 Score (Weighted): 1.0\n"
     ]
    },
    {
     "data": {
      "application/vnd.jupyter.widget-view+json": {
       "model_id": "",
       "version_major": 2,
       "version_minor": 0
      },
      "text/plain": [
       "Epoch 4:   0%|          | 0/75 [00:00<?, ?it/s]"
      ]
     },
     "metadata": {},
     "output_type": "display_data"
    },
    {
     "name": "stdout",
     "output_type": "stream",
     "text": [
      "\n",
      "Epoch 4\n",
      "Training loss: 0.0038529438183953365\n",
      "Validation loss: 0.002485727101364838\n",
      "F1 Score (Weighted): 1.0\n"
     ]
    },
    {
     "data": {
      "application/vnd.jupyter.widget-view+json": {
       "model_id": "",
       "version_major": 2,
       "version_minor": 0
      },
      "text/plain": [
       "Epoch 5:   0%|          | 0/75 [00:00<?, ?it/s]"
      ]
     },
     "metadata": {},
     "output_type": "display_data"
    },
    {
     "name": "stdout",
     "output_type": "stream",
     "text": [
      "\n",
      "Epoch 5\n",
      "Training loss: 0.0031848940098037322\n",
      "Validation loss: 0.002240343119150826\n",
      "F1 Score (Weighted): 1.0\n"
     ]
    }
   ],
   "source": [
    "for epoch in tqdm(range(1, epochs+1)):\n",
    "    \n",
    "    model.train()\n",
    "    \n",
    "    loss_train_total = 0\n",
    "\n",
    "    progress_bar = tqdm(dataloader_train, desc='Epoch {:1d}'.format(epoch), leave=False, disable=False)\n",
    "    for batch in progress_bar:\n",
    "\n",
    "        model.zero_grad()\n",
    "        \n",
    "        batch = tuple(b.to(device) for b in batch)\n",
    "        \n",
    "        inputs = {'input_ids':      batch[0],\n",
    "                  'attention_mask': batch[1],\n",
    "                  'labels':         batch[2],\n",
    "                 }       \n",
    "\n",
    "        outputs = model(**inputs)\n",
    "        \n",
    "        loss = outputs[0]\n",
    "        loss_train_total += loss.item()\n",
    "        loss.backward()\n",
    "\n",
    "        torch.nn.utils.clip_grad_norm_(model.parameters(), 1.0)\n",
    "\n",
    "        optimizer.step()\n",
    "        scheduler.step()\n",
    "        \n",
    "        progress_bar.set_postfix({'training_loss': '{:.3f}'.format(loss.item()/len(batch))})\n",
    "         \n",
    "        \n",
    "    torch.save(model.state_dict(), f'finetuned_BERT_epoch_{epoch}.model')\n",
    "        \n",
    "    tqdm.write(f'\\nEpoch {epoch}')\n",
    "    \n",
    "    loss_train_avg = loss_train_total/len(dataloader_train)             \n",
    "    tqdm.write(f'Training loss: {loss_train_avg}')\n",
    "    \n",
    "    val_loss, predictions, true_vals = evaluate(dataloader_validation)\n",
    "    val_f1 = f1_score_func(predictions, true_vals)\n",
    "    tqdm.write(f'Validation loss: {val_loss}')\n",
    "    tqdm.write(f'F1 Score (Weighted): {val_f1}')"
   ]
  },
  {
   "cell_type": "code",
   "execution_count": 51,
   "id": "b362e82e",
   "metadata": {},
   "outputs": [],
   "source": [
    "val_loss, predictions, true_vals = evaluate(dataloader_validation)"
   ]
  },
  {
   "cell_type": "code",
   "execution_count": 52,
   "id": "a955e3f1",
   "metadata": {},
   "outputs": [],
   "source": [
    "preds_flat = np.argmax(predictions, axis=1).flatten()"
   ]
  },
  {
   "cell_type": "code",
   "execution_count": 53,
   "id": "d6729845",
   "metadata": {},
   "outputs": [
    {
     "name": "stderr",
     "output_type": "stream",
     "text": [
      "Some weights of BertForSequenceClassification were not initialized from the model checkpoint at bert-base-uncased and are newly initialized: ['classifier.bias', 'classifier.weight']\n",
      "You should probably TRAIN this model on a down-stream task to be able to use it for predictions and inference.\n"
     ]
    },
    {
     "data": {
      "text/plain": [
       "BertForSequenceClassification(\n",
       "  (bert): BertModel(\n",
       "    (embeddings): BertEmbeddings(\n",
       "      (word_embeddings): Embedding(30522, 768, padding_idx=0)\n",
       "      (position_embeddings): Embedding(512, 768)\n",
       "      (token_type_embeddings): Embedding(2, 768)\n",
       "      (LayerNorm): LayerNorm((768,), eps=1e-12, elementwise_affine=True)\n",
       "      (dropout): Dropout(p=0.1, inplace=False)\n",
       "    )\n",
       "    (encoder): BertEncoder(\n",
       "      (layer): ModuleList(\n",
       "        (0-11): 12 x BertLayer(\n",
       "          (attention): BertAttention(\n",
       "            (self): BertSelfAttention(\n",
       "              (query): Linear(in_features=768, out_features=768, bias=True)\n",
       "              (key): Linear(in_features=768, out_features=768, bias=True)\n",
       "              (value): Linear(in_features=768, out_features=768, bias=True)\n",
       "              (dropout): Dropout(p=0.1, inplace=False)\n",
       "            )\n",
       "            (output): BertSelfOutput(\n",
       "              (dense): Linear(in_features=768, out_features=768, bias=True)\n",
       "              (LayerNorm): LayerNorm((768,), eps=1e-12, elementwise_affine=True)\n",
       "              (dropout): Dropout(p=0.1, inplace=False)\n",
       "            )\n",
       "          )\n",
       "          (intermediate): BertIntermediate(\n",
       "            (dense): Linear(in_features=768, out_features=3072, bias=True)\n",
       "            (intermediate_act_fn): GELUActivation()\n",
       "          )\n",
       "          (output): BertOutput(\n",
       "            (dense): Linear(in_features=3072, out_features=768, bias=True)\n",
       "            (LayerNorm): LayerNorm((768,), eps=1e-12, elementwise_affine=True)\n",
       "            (dropout): Dropout(p=0.1, inplace=False)\n",
       "          )\n",
       "        )\n",
       "      )\n",
       "    )\n",
       "    (pooler): BertPooler(\n",
       "      (dense): Linear(in_features=768, out_features=768, bias=True)\n",
       "      (activation): Tanh()\n",
       "    )\n",
       "  )\n",
       "  (dropout): Dropout(p=0.1, inplace=False)\n",
       "  (classifier): Linear(in_features=768, out_features=2, bias=True)\n",
       ")"
      ]
     },
     "execution_count": 53,
     "metadata": {},
     "output_type": "execute_result"
    }
   ],
   "source": [
    "model = BertForSequenceClassification.from_pretrained(\"bert-base-uncased\",\n",
    "                                                      num_labels=len(label_dict),\n",
    "                                                      output_attentions=False,\n",
    "                                                      output_hidden_states=False)\n",
    "\n",
    "model.to(device)"
   ]
  },
  {
   "cell_type": "code",
   "execution_count": 55,
   "id": "81149d75",
   "metadata": {},
   "outputs": [
    {
     "data": {
      "text/plain": [
       "<All keys matched successfully>"
      ]
     },
     "execution_count": 55,
     "metadata": {},
     "output_type": "execute_result"
    }
   ],
   "source": [
    "model.load_state_dict(torch.load('finetuned_BERT_epoch_5.model', map_location=torch.device('cpu')))"
   ]
  },
  {
   "cell_type": "code",
   "execution_count": 56,
   "id": "49ca89b7",
   "metadata": {},
   "outputs": [],
   "source": [
    "_, predictions, true_vals = evaluate(dataloader_validation)"
   ]
  },
  {
   "cell_type": "code",
   "execution_count": 57,
   "id": "2471037e",
   "metadata": {},
   "outputs": [
    {
     "name": "stdout",
     "output_type": "stream",
     "text": [
      "Class: not confused\n",
      "Accuracy: 43/43\n",
      "\n",
      "Class: confused\n",
      "Accuracy: 63/63\n",
      "\n"
     ]
    }
   ],
   "source": [
    "accuracy_per_class(predictions, true_vals)"
   ]
  },
  {
   "cell_type": "code",
   "execution_count": 58,
   "id": "ed27f7e7",
   "metadata": {},
   "outputs": [
    {
     "data": {
      "text/plain": [
       "(106, 106)"
      ]
     },
     "execution_count": 58,
     "metadata": {},
     "output_type": "execute_result"
    }
   ],
   "source": [
    "len(predictions), len(true_vals)"
   ]
  },
  {
   "cell_type": "code",
   "execution_count": 59,
   "id": "4dd7ca82",
   "metadata": {},
   "outputs": [],
   "source": [
    "from sklearn import metrics"
   ]
  },
  {
   "cell_type": "code",
   "execution_count": 60,
   "id": "60dff5b3",
   "metadata": {},
   "outputs": [
    {
     "name": "stdout",
     "output_type": "stream",
     "text": [
      "Accuracy: 1.0\n",
      "Precision: 1.0\n",
      "Recall: 1.0\n",
      "f1 score 1.0\n"
     ]
    }
   ],
   "source": [
    "print(\"Accuracy:\",metrics.accuracy_score(preds_flat, true_vals))\n",
    "print(\"Precision:\",metrics.precision_score(preds_flat, true_vals))\n",
    "print(\"Recall:\",metrics.recall_score(preds_flat, true_vals))\n",
    "print(\"f1 score\", metrics.f1_score(preds_flat, true_vals, average='weighted'))"
   ]
  },
  {
   "cell_type": "markdown",
   "id": "c58dfad4",
   "metadata": {},
   "source": [
    "### Testing"
   ]
  },
  {
   "cell_type": "code",
   "execution_count": 61,
   "id": "9096a859",
   "metadata": {},
   "outputs": [
    {
     "data": {
      "text/html": [
       "<div>\n",
       "<style scoped>\n",
       "    .dataframe tbody tr th:only-of-type {\n",
       "        vertical-align: middle;\n",
       "    }\n",
       "\n",
       "    .dataframe tbody tr th {\n",
       "        vertical-align: top;\n",
       "    }\n",
       "\n",
       "    .dataframe thead th {\n",
       "        text-align: right;\n",
       "    }\n",
       "</style>\n",
       "<table border=\"1\" class=\"dataframe\">\n",
       "  <thead>\n",
       "    <tr style=\"text-align: right;\">\n",
       "      <th></th>\n",
       "      <th>Sentence</th>\n",
       "      <th>Label</th>\n",
       "    </tr>\n",
       "  </thead>\n",
       "  <tbody>\n",
       "    <tr>\n",
       "      <th>0</th>\n",
       "      <td>I'm not sure I understand what you mean by \"qu...</td>\n",
       "      <td>1</td>\n",
       "    </tr>\n",
       "    <tr>\n",
       "      <th>1</th>\n",
       "      <td>That's a very interesting point.</td>\n",
       "      <td>0</td>\n",
       "    </tr>\n",
       "    <tr>\n",
       "      <th>2</th>\n",
       "      <td>Can you explain that again?</td>\n",
       "      <td>1</td>\n",
       "    </tr>\n",
       "    <tr>\n",
       "      <th>3</th>\n",
       "      <td>I see what you mean.</td>\n",
       "      <td>0</td>\n",
       "    </tr>\n",
       "    <tr>\n",
       "      <th>4</th>\n",
       "      <td>I'm a bit lost.</td>\n",
       "      <td>1</td>\n",
       "    </tr>\n",
       "  </tbody>\n",
       "</table>\n",
       "</div>"
      ],
      "text/plain": [
       "                                            Sentence  Label\n",
       "0  I'm not sure I understand what you mean by \"qu...      1\n",
       "1                   That's a very interesting point.      0\n",
       "2                        Can you explain that again?      1\n",
       "3                               I see what you mean.      0\n",
       "4                                    I'm a bit lost.      1"
      ]
     },
     "execution_count": 61,
     "metadata": {},
     "output_type": "execute_result"
    }
   ],
   "source": [
    "xlsx_file ='test.csv' \n",
    "#df_test = pd.read_excel(xlsx_file)\n",
    "df_test = pd.read_csv(xlsx_file)\n",
    "df_test.head()"
   ]
  },
  {
   "cell_type": "code",
   "execution_count": 63,
   "id": "6c6a4bf0",
   "metadata": {},
   "outputs": [
    {
     "data": {
      "text/plain": [
       "array([1, 0])"
      ]
     },
     "execution_count": 63,
     "metadata": {},
     "output_type": "execute_result"
    }
   ],
   "source": [
    "possible_labels = df_test.Label.unique()\n",
    "possible_labels"
   ]
  },
  {
   "cell_type": "code",
   "execution_count": 64,
   "id": "0d5e2c73",
   "metadata": {},
   "outputs": [],
   "source": [
    "label_dict = {}\n",
    "for index, possible_label in enumerate(possible_labels):\n",
    "    label_dict[possible_label] = index"
   ]
  },
  {
   "cell_type": "code",
   "execution_count": 66,
   "id": "f1f6a6c6",
   "metadata": {},
   "outputs": [],
   "source": [
    "df_test['label'] = df_test.Label.replace(label_dict)"
   ]
  },
  {
   "cell_type": "code",
   "execution_count": 68,
   "id": "da31afbf",
   "metadata": {},
   "outputs": [
    {
     "name": "stderr",
     "output_type": "stream",
     "text": [
      "/home/mdr614/anaconda3/envs/toxic_gru/lib/python3.8/site-packages/transformers/tokenization_utils_base.py:2619: FutureWarning: The `pad_to_max_length` argument is deprecated and will be removed in a future version, use `padding=True` or `padding='longest'` to pad to the longest sequence in the batch, or use `padding='max_length'` to pad to a max length. In this case, you can give a specific length with `max_length` (e.g. `max_length=45`) or leave max_length to None to pad to the maximal input size of the model (e.g. 512 for Bert).\n",
      "  warnings.warn(\n"
     ]
    }
   ],
   "source": [
    "encoded_test_val = tokenizer.batch_encode_plus(\n",
    "    df_test.Sentence.values, \n",
    "    add_special_tokens=True, \n",
    "    return_attention_mask=True, \n",
    "    pad_to_max_length=True, \n",
    "    max_length=256, \n",
    "    return_tensors='pt'\n",
    ")"
   ]
  },
  {
   "cell_type": "code",
   "execution_count": 69,
   "id": "649f32a0",
   "metadata": {},
   "outputs": [],
   "source": [
    "input_ids_test = encoded_test_val['input_ids']\n",
    "attention_masks_test = encoded_test_val['attention_mask']\n",
    "labels_test = torch.tensor(df_test.label.values)"
   ]
  },
  {
   "cell_type": "code",
   "execution_count": 70,
   "id": "0e22eabf",
   "metadata": {},
   "outputs": [],
   "source": [
    "dataset_test = TensorDataset(input_ids_test, attention_masks_test,labels_test)\n",
    "batch_size = 8\n",
    "dataloader_test = DataLoader(dataset_test, \n",
    "                                   sampler=SequentialSampler(dataset_test), \n",
    "                                   batch_size=batch_size)"
   ]
  },
  {
   "cell_type": "code",
   "execution_count": 71,
   "id": "b5c181b1",
   "metadata": {},
   "outputs": [],
   "source": [
    "def test_model(dataloader_test):\n",
    "\n",
    "    model.eval()\n",
    "    \n",
    "    predictions = []\n",
    "    \n",
    "    for batch in dataloader_test:\n",
    "        \n",
    "        batch = tuple(b.to(device) for b in batch)\n",
    "        \n",
    "        inputs = {'input_ids':      batch[0],\n",
    "                'attention_mask': batch[1],\n",
    "                'labels':         batch[2],\n",
    "                }  \n",
    "        with torch.no_grad():        \n",
    "            outputs = model(**inputs)\n",
    "            \n",
    "        logits = outputs[1]\n",
    "\n",
    "        logits = logits.detach().cpu().numpy()\n",
    "        predictions.append(logits)\n",
    "    \n",
    "    predictions = np.concatenate(predictions, axis=0)\n",
    "    return predictions"
   ]
  },
  {
   "cell_type": "code",
   "execution_count": 72,
   "id": "a38ecc60",
   "metadata": {},
   "outputs": [
    {
     "name": "stdout",
     "output_type": "stream",
     "text": [
      "[1 0 1 0 1 0 1 0 1 0 1 0 1 0 1 0 1 0 1 0 1 0 1 0 1 0 1 0 1 0 1 0 1 0 1 0 1\n",
      " 0 1 0 1 0 1 0 1 0 1 0 1 0 1 0 1 0 1 0 1 0 1 0 1 0 1 0 1 0 1 0 1 0 1 0 1 0\n",
      " 1 0 1 0 1 0 1 0 1 0 1 0 1 0 1 0 1 0 1 0]\n"
     ]
    }
   ],
   "source": [
    "pred_test = test_model(dataloader_test) \n",
    "preds_flat_test = np.argmax(pred_test, axis=1).flatten()\n",
    "print(preds_flat_test)"
   ]
  },
  {
   "cell_type": "code",
   "execution_count": 73,
   "id": "1a3699da",
   "metadata": {},
   "outputs": [],
   "source": [
    "import pandas as pd\n",
    "pred_data = pd.DataFrame(preds_flat_test, columns = [\"prediction\"])\n",
    "pd_cont = pd.concat([df_test[\"Sentence\"], pred_data], axis = 1)\n",
    "pd_cont.to_csv(\"prediction_github_comments_byPoliteBot.csv\")"
   ]
  },
  {
   "cell_type": "code",
   "execution_count": 104,
   "id": "c98ec1d7",
   "metadata": {},
   "outputs": [
    {
     "data": {
      "text/plain": [
       "1015"
      ]
     },
     "execution_count": 104,
     "metadata": {},
     "output_type": "execute_result"
    }
   ],
   "source": [
    "len(pred_data)"
   ]
  },
  {
   "cell_type": "code",
   "execution_count": 105,
   "id": "0c3667e3",
   "metadata": {},
   "outputs": [
    {
     "data": {
      "text/plain": [
       "16644"
      ]
     },
     "execution_count": 105,
     "metadata": {},
     "output_type": "execute_result"
    }
   ],
   "source": [
    "len(X_val)"
   ]
  },
  {
   "cell_type": "code",
   "execution_count": 106,
   "id": "2790ae22",
   "metadata": {},
   "outputs": [
    {
     "data": {
      "text/html": [
       "<div>\n",
       "<style scoped>\n",
       "    .dataframe tbody tr th:only-of-type {\n",
       "        vertical-align: middle;\n",
       "    }\n",
       "\n",
       "    .dataframe tbody tr th {\n",
       "        vertical-align: top;\n",
       "    }\n",
       "\n",
       "    .dataframe thead th {\n",
       "        text-align: right;\n",
       "    }\n",
       "</style>\n",
       "<table border=\"1\" class=\"dataframe\">\n",
       "  <thead>\n",
       "    <tr style=\"text-align: right;\">\n",
       "      <th></th>\n",
       "      <th>prediction</th>\n",
       "    </tr>\n",
       "  </thead>\n",
       "  <tbody>\n",
       "    <tr>\n",
       "      <th>0</th>\n",
       "      <td>2</td>\n",
       "    </tr>\n",
       "    <tr>\n",
       "      <th>1</th>\n",
       "      <td>0</td>\n",
       "    </tr>\n",
       "    <tr>\n",
       "      <th>2</th>\n",
       "      <td>2</td>\n",
       "    </tr>\n",
       "    <tr>\n",
       "      <th>3</th>\n",
       "      <td>2</td>\n",
       "    </tr>\n",
       "    <tr>\n",
       "      <th>4</th>\n",
       "      <td>1</td>\n",
       "    </tr>\n",
       "    <tr>\n",
       "      <th>...</th>\n",
       "      <td>...</td>\n",
       "    </tr>\n",
       "    <tr>\n",
       "      <th>1010</th>\n",
       "      <td>1</td>\n",
       "    </tr>\n",
       "    <tr>\n",
       "      <th>1011</th>\n",
       "      <td>1</td>\n",
       "    </tr>\n",
       "    <tr>\n",
       "      <th>1012</th>\n",
       "      <td>2</td>\n",
       "    </tr>\n",
       "    <tr>\n",
       "      <th>1013</th>\n",
       "      <td>0</td>\n",
       "    </tr>\n",
       "    <tr>\n",
       "      <th>1014</th>\n",
       "      <td>0</td>\n",
       "    </tr>\n",
       "  </tbody>\n",
       "</table>\n",
       "<p>1015 rows × 1 columns</p>\n",
       "</div>"
      ],
      "text/plain": [
       "      prediction\n",
       "0              2\n",
       "1              0\n",
       "2              2\n",
       "3              2\n",
       "4              1\n",
       "...          ...\n",
       "1010           1\n",
       "1011           1\n",
       "1012           2\n",
       "1013           0\n",
       "1014           0\n",
       "\n",
       "[1015 rows x 1 columns]"
      ]
     },
     "execution_count": 106,
     "metadata": {},
     "output_type": "execute_result"
    }
   ],
   "source": [
    "pred_data"
   ]
  },
  {
   "cell_type": "code",
   "execution_count": null,
   "id": "b0eb8ec8",
   "metadata": {},
   "outputs": [],
   "source": [
    "df_slice = df_test[\"message\"]\n",
    "df_slice.reset_index()"
   ]
  },
  {
   "cell_type": "code",
   "execution_count": null,
   "id": "9e1bf974",
   "metadata": {},
   "outputs": [],
   "source": [
    "pd_cont_rst = pd.concat([df_slice.reset_index(), pred_data], axis = 1)\n",
    "pd_cont_rst.to_csv(\"done.csv\")"
   ]
  },
  {
   "cell_type": "code",
   "execution_count": null,
   "id": "16be0a31",
   "metadata": {},
   "outputs": [],
   "source": []
  }
 ],
 "metadata": {
  "kernelspec": {
   "display_name": "toxic_gru",
   "language": "python",
   "name": "toxic_gru"
  },
  "language_info": {
   "codemirror_mode": {
    "name": "ipython",
    "version": 3
   },
   "file_extension": ".py",
   "mimetype": "text/x-python",
   "name": "python",
   "nbconvert_exporter": "python",
   "pygments_lexer": "ipython3",
   "version": "3.8.17"
  }
 },
 "nbformat": 4,
 "nbformat_minor": 5
}
